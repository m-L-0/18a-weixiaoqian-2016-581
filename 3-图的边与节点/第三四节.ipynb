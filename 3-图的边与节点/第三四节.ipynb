{
 "cells": [
  {
   "cell_type": "markdown",
   "metadata": {},
   "source": [
    "1  边\n",
    "    数据依赖\n",
    "    控制依赖\n",
    "    张量的阶、形状、数据类型"
   ]
  },
  {
   "cell_type": "code",
   "execution_count": 1,
   "metadata": {},
   "outputs": [
    {
     "name": "stderr",
     "output_type": "stream",
     "text": [
      "D:\\AN\\lib\\site-packages\\h5py\\__init__.py:36: FutureWarning: Conversion of the second argument of issubdtype from `float` to `np.floating` is deprecated. In future, it will be treated as `np.float64 == np.dtype(float).type`.\n",
      "  from ._conv import register_converters as _register_converters\n"
     ]
    },
    {
     "name": "stdout",
     "output_type": "stream",
     "text": [
      "Const:0\n",
      "op_1:0\n",
      "op_1_1:0\n",
      "op_1_2:0\n",
      "123:0\n"
     ]
    }
   ],
   "source": [
    "import tensorflow as tf\n",
    "a = tf.constant([1,2])\n",
    "b = tf.add([1,2],[3,4],name='op_1')\n",
    "c = tf.add([1,3],[2,4],name='op_1')\n",
    "d = tf.mod([1,2],[3,4],name='op_1')\n",
    "e = tf.slice([1,2],[0],[1],name='123')\n",
    "print(a.name)\n",
    "print(b.name)\n",
    "print(c.name)\n",
    "print(d.name)\n",
    "print(e.name)"
   ]
  },
  {
   "cell_type": "code",
   "execution_count": 1,
   "metadata": {},
   "outputs": [
    {
     "name": "stderr",
     "output_type": "stream",
     "text": [
      "D:\\AN\\lib\\site-packages\\h5py\\__init__.py:36: FutureWarning: Conversion of the second argument of issubdtype from `float` to `np.floating` is deprecated. In future, it will be treated as `np.float64 == np.dtype(float).type`.\n",
      "  from ._conv import register_converters as _register_converters\n"
     ]
    }
   ],
   "source": [
    "import tensorflow as tf"
   ]
  },
  {
   "cell_type": "code",
   "execution_count": 5,
   "metadata": {
    "scrolled": true
   },
   "outputs": [
    {
     "name": "stdout",
     "output_type": "stream",
     "text": [
      "Tensor(\"Add_3:0\", shape=(2, 2), dtype=float32)\n"
     ]
    }
   ],
   "source": [
    "a = tf.constant([[1.0,2.0,3.0],[4.0,5.0,6.0]],name='a')\n",
    "b = tf.constant([[1.0,2.0],[3.0,4.0],[5.0,6.0]],name='b')\n",
    "c = tf.matmul(a,b)\n",
    "\n",
    "d = tf.add(c,5)\n",
    "\n",
    "with tf.Session() as sess:\n",
    "    sess.run(d)\n",
    "    print(d)"
   ]
  },
  {
   "cell_type": "markdown",
   "metadata": {},
   "source": [
    "控制依赖\n",
    "    控制依赖是在某些操作之间没有数值上的依赖关系但执行时又需要使这些操作按照一定顺序执行，这时候我们可以声明执行顺序。\n",
    "    控制依赖使用图对象的方法，返回一个可以使用上下文管理器的对象\n",
    "    control_dependencies方法传入的是一个列表作为参数，列表中所包含所有被依赖的操作或张量，被依赖的所有节点可以看做是同时执行的。"
   ]
  },
  {
   "cell_type": "code",
   "execution_count": 7,
   "metadata": {},
   "outputs": [
    {
     "name": "stdout",
     "output_type": "stream",
     "text": [
      "Tensor(\"MatMul_7:0\", shape=(2, 2), dtype=float32)\n"
     ]
    }
   ],
   "source": [
    "a = tf.constant([[1.0,2.0,3.0],[4.0,5.0,6.0]],name='a')\n",
    "b = tf.constant([[1.0,2.0],[3.0,4.0],[5.0,6.0]],name='b')\n",
    "c = tf.matmul(a,b)\n",
    "\n",
    "g = tf.get_default_graph()\n",
    "with g.control_dependencies([c]):\n",
    "    d = tf.constant([[1.0,2.0,3.0],[4.0,5.0,6.0]],name='d')\n",
    "    e = tf.constant([[1.0,2.0],[3.0,4.0],[5.0,6.0]],name='e')\n",
    "    f = tf.matmul(d,e)\n",
    "    with tf.Session() as sess:\n",
    "        sess.run(f)\n",
    "        print(f)\n",
    "    "
   ]
  },
  {
   "cell_type": "code",
   "execution_count": 8,
   "metadata": {},
   "outputs": [
    {
     "name": "stdout",
     "output_type": "stream",
     "text": [
      "Tensor(\"MatMul_9:0\", shape=(2, 2), dtype=float32)\n",
      "Tensor(\"MatMul_8:0\", shape=(2, 2), dtype=float32)\n"
     ]
    }
   ],
   "source": [
    "a = tf.constant([[1.0, 2.0, 3.0], [4.0, 5.0, 6.0]], name='a')\n",
    "b = tf.constant([[1.0, 2.0], [3.0, 4.0], [5.0, 6.0]], name='b')\n",
    "c = tf.matmul(a, b)\n",
    "\n",
    "with tf.control_dependencies([c]):\n",
    "    d = tf.constant([[1.0, 2.0, 3.0], [4.0, 5.0, 6.0]], name='d')\n",
    "    e = tf.constant([[1.0, 2.0], [3.0, 4.0], [5.0, 6.0]], name='e')\n",
    "    f = tf.matmul(d, e)\n",
    "with tf.Session() as sess:\n",
    "    sess.run(f)\n",
    "    print(f)\n",
    "    \n",
    "print(c)"
   ]
  },
  {
   "cell_type": "markdown",
   "metadata": {},
   "source": [
    "注意：有依赖的op必须写在tf.control_dependencies上下文中，否则不属于有依赖的op."
   ]
  },
  {
   "cell_type": "code",
   "execution_count": 10,
   "metadata": {},
   "outputs": [],
   "source": [
    "#错误写法\n",
    "def my_fun():\n",
    "    a = tf.constant(1)\n",
    "    b = tf.constant(2)\n",
    "    c = a + b\n",
    "    \n",
    "    d = tf.constant(3)\n",
    "    e = tf.constant(4)\n",
    "    f = a + b\n",
    "    #此处f不依赖与c\n",
    "    with tf.control_dependencies([c]):\n",
    "        return f\n",
    "    result = my_fun()"
   ]
  },
  {
   "cell_type": "code",
   "execution_count": 4,
   "metadata": {},
   "outputs": [
    {
     "name": "stdout",
     "output_type": "stream",
     "text": [
      "(2, 3)\n",
      "(2, 3)\n",
      "Tensor(\"Shape:0\", shape=(2,), dtype=int32)\n"
     ]
    }
   ],
   "source": [
    "#获取shape的三种方法\n",
    "a = tf.constant([[1.0, 2.0, 3.0], [4.0, 5.0, 6.0]])\n",
    "print(a.shape)\n",
    "print(a.get_shape())\n",
    "print(tf.shape(a))"
   ]
  },
  {
   "cell_type": "code",
   "execution_count": 3,
   "metadata": {},
   "outputs": [
    {
     "name": "stdout",
     "output_type": "stream",
     "text": [
      "(0,)\n",
      "(0,)\n"
     ]
    }
   ],
   "source": [
    "a = tf.constant([])\n",
    "print(a.shape)\n",
    "print(a.get_shape())"
   ]
  },
  {
   "cell_type": "code",
   "execution_count": 2,
   "metadata": {},
   "outputs": [
    {
     "name": "stdout",
     "output_type": "stream",
     "text": [
      "()\n",
      "()\n"
     ]
    }
   ],
   "source": [
    "a = tf.constant(12)\n",
    "print(a.shape)\n",
    "print(a.get_shape())"
   ]
  },
  {
   "cell_type": "code",
   "execution_count": 18,
   "metadata": {},
   "outputs": [
    {
     "name": "stdout",
     "output_type": "stream",
     "text": [
      "(3, 1)\n"
     ]
    }
   ],
   "source": [
    "a = tf.constant([[1],[2],[3]])\n",
    "print(a.get_shape())"
   ]
  },
  {
   "cell_type": "code",
   "execution_count": 20,
   "metadata": {},
   "outputs": [
    {
     "name": "stdout",
     "output_type": "stream",
     "text": [
      "Tensor(\"Shape_2:0\", shape=(2,), dtype=int32)\n",
      "(2, 3)\n"
     ]
    }
   ],
   "source": [
    "a = tf.constant([[1,2,3],[1,2,3]])\n",
    "print(tf.shape(a))\n",
    "print(a.get_shape())"
   ]
  },
  {
   "cell_type": "code",
   "execution_count": 22,
   "metadata": {},
   "outputs": [
    {
     "name": "stdout",
     "output_type": "stream",
     "text": [
      "(3, 1, 1)\n",
      "Tensor(\"Shape_4:0\", shape=(3,), dtype=int32)\n"
     ]
    }
   ],
   "source": [
    "a = tf.constant([[[1]],[[2]],[[3]]])\n",
    "print(a.get_shape())\n",
    "print(tf.shape(a))\n"
   ]
  },
  {
   "cell_type": "code",
   "execution_count": 23,
   "metadata": {},
   "outputs": [
    {
     "name": "stdout",
     "output_type": "stream",
     "text": [
      "(1, 2, 2)\n",
      "Tensor(\"Shape_5:0\", shape=(3,), dtype=int32)\n"
     ]
    }
   ],
   "source": [
    "a = tf.constant([[[1,2],[1,2]]])\n",
    "print(a.get_shape())\n",
    "print(tf.shape(a))"
   ]
  },
  {
   "cell_type": "markdown",
   "metadata": {},
   "source": [
    "设计一个函数，要求实现：可以根据输入张量输出shape完成一样的元素为全1的张量。\n",
    "提示，使用tf.ones函数可根据形状生成全1张量"
   ]
  },
  {
   "cell_type": "code",
   "execution_count": 9,
   "metadata": {},
   "outputs": [
    {
     "name": "stdout",
     "output_type": "stream",
     "text": [
      "Tensor(\"ones_8:0\", shape=(2, 3), dtype=float32)\n"
     ]
    }
   ],
   "source": [
    "import tensorflow as tf\n",
    "import numpy as np\n",
    "def shape_fun(s):\n",
    "    a = tf.ones(s)\n",
    "    print(a)\n",
    "r = shape_fun([2,3])"
   ]
  },
  {
   "cell_type": "code",
   "execution_count": 8,
   "metadata": {},
   "outputs": [
    {
     "name": "stdout",
     "output_type": "stream",
     "text": [
      "Tensor(\"ones_7:0\", shape=(2, 3), dtype=float32)\n",
      "(2, 3)\n"
     ]
    }
   ],
   "source": [
    "#tf.ones的用法\n",
    "import tensorflow as tf\n",
    "import numpy as np\n",
    "a = tf.ones([2,3])\n",
    "\n",
    "print(a)\n",
    "print(a.get_shape())"
   ]
  },
  {
   "cell_type": "markdown",
   "metadata": {},
   "source": [
    "张量的形状可以通过python中的列表或元祖（list或tuples）来表示，或者也可以用TensorShape对象来表示:\n",
    "a.shape\n",
    "a.get_shape()\n",
    "tf.shape(a)"
   ]
  },
  {
   "cell_type": "markdown",
   "metadata": {},
   "source": [
    "设置与获取Tensor的数据类型"
   ]
  },
  {
   "cell_type": "code",
   "execution_count": null,
   "metadata": {},
   "outputs": [],
   "source": [
    "#设置tensor的数据类型\n",
    "#方法一：Tensorflow会推断出类型为tf.float32\n",
    "a = tf.constant([[1.0,2.0,3.0],[4.0,5.0,6.0]])\n",
    "\n",
    "#方法二：手动设置\n",
    "a = tf.constant([[1.0,2.0,3.0],[4.0,5.0,6.0]],dtype=tf.float32)\n",
    "\n",
    "#方法三：不推荐，设置numpy类型，未来可能会不兼容\n",
    "#tf.int32 == np.int32      -> True\n",
    "a = tf.constant([[1.0,2.0,3.0],[4.0,5.0,6.0]],dtype=np.float32)\n"
   ]
  },
  {
   "cell_type": "code",
   "execution_count": 13,
   "metadata": {},
   "outputs": [
    {
     "data": {
      "text/plain": [
       "tf.float32"
      ]
     },
     "execution_count": 13,
     "metadata": {},
     "output_type": "execute_result"
    }
   ],
   "source": [
    "#获取Tensor的数据类型\n",
    "a = tf.constant([[1.0,2.0,3.0],[4.0,5.0,6.0]],name='a')\n",
    "a.dtype"
   ]
  },
  {
   "cell_type": "code",
   "execution_count": 14,
   "metadata": {},
   "outputs": [
    {
     "name": "stdout",
     "output_type": "stream",
     "text": [
      "<dtype: 'float32'>\n"
     ]
    }
   ],
   "source": [
    "a = tf.constant([[1.0,2.0,3.0],[4.0,5.0,6.0]],name='a')\n",
    "print(a.dtype)"
   ]
  },
  {
   "cell_type": "code",
   "execution_count": 16,
   "metadata": {},
   "outputs": [
    {
     "name": "stdout",
     "output_type": "stream",
     "text": [
      "<dtype: 'complex128'>\n"
     ]
    }
   ],
   "source": [
    "b = tf.constant(2+3j)\n",
    "print(b.dtype)"
   ]
  },
  {
   "cell_type": "code",
   "execution_count": 17,
   "metadata": {},
   "outputs": [
    {
     "name": "stdout",
     "output_type": "stream",
     "text": [
      "<dtype: 'bool'>\n"
     ]
    }
   ],
   "source": [
    "c = tf.constant([True,False],tf.bool)\n",
    "print(c.dtype)"
   ]
  },
  {
   "cell_type": "markdown",
   "metadata": {},
   "source": [
    "注意：一个张量仅允许一种dtype存在，也就是一个张量中每一个数据的数据类型必须一致"
   ]
  },
  {
   "cell_type": "code",
   "execution_count": 18,
   "metadata": {},
   "outputs": [],
   "source": [
    "#数据类型转化：使用tf.cast（）"
   ]
  },
  {
   "cell_type": "code",
   "execution_count": 21,
   "metadata": {},
   "outputs": [
    {
     "name": "stdout",
     "output_type": "stream",
     "text": [
      "<dtype: 'int16'>\n",
      "Tensor(\"Cast_2:0\", shape=(2, 3), dtype=int16)\n"
     ]
    },
    {
     "data": {
      "text/plain": [
       "<tf.Tensor 'Cast_2:0' shape=(2, 3) dtype=int16>"
      ]
     },
     "execution_count": 21,
     "metadata": {},
     "output_type": "execute_result"
    }
   ],
   "source": [
    "a = tf.constant([[1.0,2.0,3.0],[4.0,5.0,6.0]],name='a')\n",
    "b = tf.cast(a,tf.int16)\n",
    "print(b.dtype)\n",
    "print(b)\n",
    "b"
   ]
  },
  {
   "cell_type": "code",
   "execution_count": null,
   "metadata": {},
   "outputs": [],
   "source": [
    "#有些类型利用tf.cast()是无法转化的，比如string无法转化为number类型\n",
    "#注意：数字字符可以转化为数字\n",
    "#tf.string_to_number(string_tensor,out_type = None,name = None)\n",
    "a = tf.constant([[1.0,2.0,3.0],[4.0,5.0,6.0]],name='a')\n",
    "num = tf.string_to_number(a)"
   ]
  },
  {
   "cell_type": "code",
   "execution_count": null,
   "metadata": {},
   "outputs": [],
   "source": [
    "#实数数值类型可以使用tf.cast()方法转化为bool类型"
   ]
  },
  {
   "cell_type": "markdown",
   "metadata": {},
   "source": [
    "2  节点\n",
    "    变量\n",
    "    张量元素运算\n",
    "    张量常用运算\n",
    "    张量切片和索引"
   ]
  },
  {
   "cell_type": "markdown",
   "metadata": {},
   "source": [
    "图中的节点也可以称为算子，代表一个操作，一般用来表示数学运算，也可以表示数据输入的起点以及输出的终点，或者读取/写入持久变量的终点。常见的节点包括：变量、张量逐元素运算、张量变形、张量索引与切片、张量运算、检查点操作、队列和同步操作、张量控制等\n",
    "当OP表示数学运算时，每一个运算都会创建一个tf.Operation对象。常见的操作比如生成一个变量或者常量，数值计算均创建tf.Operation对象"
   ]
  },
  {
   "cell_type": "code",
   "execution_count": 2,
   "metadata": {},
   "outputs": [
    {
     "data": {
      "text/plain": [
       "<tf.Variable 'Variable_1:0' shape=() dtype=int32_ref>"
      ]
     },
     "execution_count": 2,
     "metadata": {},
     "output_type": "execute_result"
    }
   ],
   "source": [
    "#变量用于存储张量，可以使用list、tensor等用来进行初始化\n",
    "#例：使用纯量0进行初始化一个变量：\n",
    "import tensorflow as tf\n",
    "var = tf.Variable(0)\n",
    "var"
   ]
  },
  {
   "cell_type": "code",
   "execution_count": 8,
   "metadata": {},
   "outputs": [
    {
     "name": "stdout",
     "output_type": "stream",
     "text": [
      "3\n",
      "[4 6]\n",
      "[4 6]\n"
     ]
    }
   ],
   "source": [
    "#tf.add() 两个张量对应元素相加\n",
    "a = tf.add(1,2)\n",
    "c = tf.add([1,2],[3,4])\n",
    "b = tf.constant([1,2]) + tf.constant([3,4])\n",
    "with tf.Session() as sess:\n",
    "    print(sess.run(a))\n",
    "    print(sess.run(b))\n",
    "    print(sess.run(c))\n"
   ]
  },
  {
   "cell_type": "code",
   "execution_count": 9,
   "metadata": {},
   "outputs": [
    {
     "name": "stdout",
     "output_type": "stream",
     "text": [
      "-1\n",
      "[-2 -2]\n",
      "[-2 -2]\n"
     ]
    }
   ],
   "source": [
    "#tf.subtract()两个张量对应元素相减\n",
    "a = tf.subtract(1,2)\n",
    "b = tf.subtract([1,2],[3,4])\n",
    "c = tf.constant([1,2]) - tf.constant([3,4])\n",
    "with tf.Session() as sess:\n",
    "    print(sess.run(a))\n",
    "    print(sess.run(b))\n",
    "    print(sess.run(c))\n",
    "    "
   ]
  },
  {
   "cell_type": "code",
   "execution_count": 10,
   "metadata": {},
   "outputs": [
    {
     "name": "stdout",
     "output_type": "stream",
     "text": [
      "2\n",
      "[3 8]\n",
      "[3 8]\n"
     ]
    }
   ],
   "source": [
    "#tf.multiply() 两个张量对应元素相乘\n",
    "a = tf.multiply(1,2)\n",
    "b = tf.multiply([1,2],[3,4])\n",
    "c = tf.constant([1,2]) * tf.constant([3,4])\n",
    "with tf.Session() as sess:\n",
    "    print(sess.run(a))\n",
    "    print(sess.run(b))\n",
    "    print(sess.run(c))"
   ]
  },
  {
   "cell_type": "code",
   "execution_count": 11,
   "metadata": {},
   "outputs": [
    {
     "name": "stdout",
     "output_type": "stream",
     "text": [
      "[10. 20.]\n"
     ]
    }
   ],
   "source": [
    "#tf.scalar_mul() 一个纯量分别与张量中的每一个元素相乘\n",
    "a = tf.scalar_mul(10.,tf.constant([1.,2.]))\n",
    "with tf.Session() as sess:\n",
    "    print(sess.run(a))"
   ]
  },
  {
   "cell_type": "code",
   "execution_count": 16,
   "metadata": {},
   "outputs": [
    {
     "data": {
      "text/plain": [
       "0.5"
      ]
     },
     "execution_count": 16,
     "metadata": {},
     "output_type": "execute_result"
    }
   ],
   "source": [
    "#tf.divide() 两个张量对应元素相除\n",
    "tf.divide(1,2)"
   ]
  },
  {
   "cell_type": "code",
   "execution_count": 18,
   "metadata": {},
   "outputs": [
    {
     "data": {
      "text/plain": [
       "<tf.Tensor 'truediv_3:0' shape=(2,) dtype=float64>"
      ]
     },
     "execution_count": 18,
     "metadata": {},
     "output_type": "execute_result"
    }
   ],
   "source": [
    "tf.divide(tf.constant([1,2]),tf.constant([3,4]))"
   ]
  },
  {
   "cell_type": "code",
   "execution_count": 19,
   "metadata": {},
   "outputs": [
    {
     "data": {
      "text/plain": [
       "<tf.Tensor 'truediv_4:0' shape=(2,) dtype=float64>"
      ]
     },
     "execution_count": 19,
     "metadata": {},
     "output_type": "execute_result"
    }
   ],
   "source": [
    "tf.constant([1,2]) / tf.constant([3,4])"
   ]
  },
  {
   "cell_type": "code",
   "execution_count": 22,
   "metadata": {},
   "outputs": [
    {
     "data": {
      "text/plain": [
       "0.5"
      ]
     },
     "execution_count": 22,
     "metadata": {},
     "output_type": "execute_result"
    }
   ],
   "source": [
    "#tf.div() 两个张量对应元素相除，得到的结果，不推荐使用此方法\n",
    "#tf.divide与tf.div相比前者更符合python的语义\n",
    "\n",
    "1/2\n"
   ]
  },
  {
   "cell_type": "code",
   "execution_count": 24,
   "metadata": {},
   "outputs": [
    {
     "data": {
      "text/plain": [
       "<tf.Tensor 'truediv_7:0' shape=() dtype=float64>"
      ]
     },
     "execution_count": 24,
     "metadata": {},
     "output_type": "execute_result"
    }
   ],
   "source": [
    "tf.divide(tf.constant(1),tf.constant(2))"
   ]
  },
  {
   "cell_type": "code",
   "execution_count": 25,
   "metadata": {},
   "outputs": [
    {
     "ename": "TypeError",
     "evalue": "div() missing 1 required positional argument: 'y'",
     "output_type": "error",
     "traceback": [
      "\u001b[1;31m---------------------------------------------------------------------------\u001b[0m",
      "\u001b[1;31mTypeError\u001b[0m                                 Traceback (most recent call last)",
      "\u001b[1;32m<ipython-input-25-e0706b1b2eb5>\u001b[0m in \u001b[0;36m<module>\u001b[1;34m()\u001b[0m\n\u001b[1;32m----> 1\u001b[1;33m \u001b[0mtf\u001b[0m\u001b[1;33m.\u001b[0m\u001b[0mdiv\u001b[0m\u001b[1;33m(\u001b[0m\u001b[1;36m1\u001b[0m\u001b[1;33m/\u001b[0m\u001b[1;36m2\u001b[0m\u001b[1;33m)\u001b[0m\u001b[1;33m\u001b[0m\u001b[0m\n\u001b[0m",
      "\u001b[1;31mTypeError\u001b[0m: div() missing 1 required positional argument: 'y'"
     ]
    }
   ],
   "source": [
    "tf.div(1/2)"
   ]
  },
  {
   "cell_type": "code",
   "execution_count": 27,
   "metadata": {},
   "outputs": [
    {
     "name": "stdout",
     "output_type": "stream",
     "text": [
      "0\n"
     ]
    }
   ],
   "source": [
    "#tf.floordiv() shape相同的两个张量对应元素相除取整数部分\n",
    "a = tf.floordiv(1,2)\n",
    "with tf.Session() as sess:\n",
    "    print(sess.run(a))\n",
    "    "
   ]
  },
  {
   "cell_type": "code",
   "execution_count": 28,
   "metadata": {},
   "outputs": [
    {
     "name": "stdout",
     "output_type": "stream",
     "text": [
      "[2 0]\n"
     ]
    }
   ],
   "source": [
    "b = tf.floordiv([4,3],[2,5])\n",
    "with tf.Session() as sess:\n",
    "    print(sess.run(b))"
   ]
  },
  {
   "cell_type": "code",
   "execution_count": 30,
   "metadata": {},
   "outputs": [
    {
     "name": "stdout",
     "output_type": "stream",
     "text": [
      "[2 0]\n"
     ]
    }
   ],
   "source": [
    "c = tf.constant([4,3]) // tf.constant([2,5])\n",
    "with tf.Session() as sess:\n",
    "    print(sess.run(c))\n",
    "    "
   ]
  },
  {
   "cell_type": "code",
   "execution_count": 32,
   "metadata": {},
   "outputs": [
    {
     "name": "stdout",
     "output_type": "stream",
     "text": [
      "[0 3]\n"
     ]
    }
   ],
   "source": [
    "#tf.mod() shape相同的两个张量对应元素进行模运算\n",
    "a = tf.mod([4,3],[2,5])\n",
    "with tf.Session() as sess:\n",
    "    print(sess.run(a))"
   ]
  },
  {
   "cell_type": "markdown",
   "metadata": {},
   "source": [
    "张量常用运算\n",
    "tf.matmul()    通常用来做矩阵乘法\n",
    "tf.transpose()  转置张量"
   ]
  },
  {
   "cell_type": "code",
   "execution_count": 1,
   "metadata": {},
   "outputs": [
    {
     "name": "stderr",
     "output_type": "stream",
     "text": [
      "D:\\AN\\lib\\site-packages\\h5py\\__init__.py:36: FutureWarning: Conversion of the second argument of issubdtype from `float` to `np.floating` is deprecated. In future, it will be treated as `np.float64 == np.dtype(float).type`.\n",
      "  from ._conv import register_converters as _register_converters\n"
     ]
    },
    {
     "data": {
      "text/plain": [
       "<tf.Tensor 'MatMul:0' shape=(2, 2) dtype=float32>"
      ]
     },
     "execution_count": 1,
     "metadata": {},
     "output_type": "execute_result"
    }
   ],
   "source": [
    "import tensorflow as tf\n",
    "a = tf.constant([[1.,2.,3.],[4.,5.,6.]])\n",
    "\n",
    "tf.matmul(a,tf.transpose(a))"
   ]
  },
  {
   "cell_type": "code",
   "execution_count": null,
   "metadata": {},
   "outputs": [],
   "source": [
    "#张量切片和索引\n",
    "#张量变形：将张量变成指定shape的新张量\n",
    "tf.reshape(tensor,shape,name=None)\n",
    "#张量的拼接：沿着某个维度对两个或多个张量进行拼接\n",
    "\n",
    "tf.concat(values,axis,name='concat')\n"
   ]
  },
  {
   "cell_type": "code",
   "execution_count": 5,
   "metadata": {},
   "outputs": [
    {
     "name": "stdout",
     "output_type": "stream",
     "text": [
      "Tensor(\"concat_3:0\", shape=(4, 3), dtype=int32)\n"
     ]
    }
   ],
   "source": [
    "t1 = [[1,2,3],[4,5,6]]\n",
    "t2 = [[7,8,9],[10,11,12]]\n",
    "print(tf.concat([t1,t2],0))\n"
   ]
  },
  {
   "cell_type": "code",
   "execution_count": null,
   "metadata": {},
   "outputs": [],
   "source": [
    "#张量的切割：对输入的张量进行切片\n",
    "tf.slice(input_,begin,size,name=None)\n",
    "#这个函数的作用是从输入数据input中提取一块切片：\n",
    "    #切片的尺寸是size，切片的开始位置是begin；\n",
    "    #切片的尺寸size表示输出tensor的数据维度，其中size[i]表示在第i维度上面的元素；\n",
    "    #开始位置begin表示切片相对于输入数据input_的每一个偏移量；\n",
    "    "
   ]
  },
  {
   "cell_type": "code",
   "execution_count": null,
   "metadata": {},
   "outputs": [],
   "source": [
    "#将张量分裂成子张量\n",
    "tf.split(value,num_or_size_splits,axis=0,num=None,name='split')\n"
   ]
  },
  {
   "cell_type": "code",
   "execution_count": 22,
   "metadata": {},
   "outputs": [
    {
     "data": {
      "text/plain": [
       "<tf.Tensor 'Rank_5:0' shape=() dtype=int32>"
      ]
     },
     "execution_count": 22,
     "metadata": {},
     "output_type": "execute_result"
    }
   ],
   "source": [
    "a = tf.constant([[1.0,2.0,3.0],[4.0,5.0,6.0]])\n",
    "tf.rank(a)"
   ]
  },
  {
   "cell_type": "code",
   "execution_count": 1,
   "metadata": {
    "scrolled": true
   },
   "outputs": [
    {
     "name": "stderr",
     "output_type": "stream",
     "text": [
      "D:\\AN\\lib\\site-packages\\h5py\\__init__.py:36: FutureWarning: Conversion of the second argument of issubdtype from `float` to `np.floating` is deprecated. In future, it will be treated as `np.float64 == np.dtype(float).type`.\n",
      "  from ._conv import register_converters as _register_converters\n"
     ]
    }
   ],
   "source": [
    "import tensorflow as tf"
   ]
  },
  {
   "cell_type": "code",
   "execution_count": 3,
   "metadata": {},
   "outputs": [
    {
     "name": "stdout",
     "output_type": "stream",
     "text": [
      "[1 2 3]\n"
     ]
    }
   ],
   "source": [
    "# 1.使用变量的属性initializer进行初始化：\n",
    "var = tf.Variable([1,2,3])\n",
    "with tf.Session() as sess:\n",
    "    sess.run(var.initializer)\n",
    "    print(sess.run(var))\n",
    "    "
   ]
  },
  {
   "cell_type": "code",
   "execution_count": 8,
   "metadata": {},
   "outputs": [
    {
     "name": "stdout",
     "output_type": "stream",
     "text": [
      "[1 2 3]\n",
      "[1 2 3]\n"
     ]
    }
   ],
   "source": [
    "var1 = tf.Variable([1,2,3])\n",
    "var2 = tf.Variable([1,2,3])\n",
    "with tf.Session() as sess:\n",
    "    sess.run(tf.variables_initializer([var1,var2]))\n",
    "    print(sess.run(var1))\n",
    "    print(sess.run(var2))"
   ]
  },
  {
   "cell_type": "code",
   "execution_count": 12,
   "metadata": {},
   "outputs": [
    {
     "name": "stdout",
     "output_type": "stream",
     "text": [
      "hello\n"
     ]
    }
   ],
   "source": [
    "#每个OP都有name属性，可以通过属性查看name值\n",
    "#返回一个什么都不做的op\n",
    "op = tf.no_op(name='hello')\n",
    "print(op.name)"
   ]
  }
 ],
 "metadata": {
  "kernelspec": {
   "display_name": "Python 3",
   "language": "python",
   "name": "python3"
  },
  "language_info": {
   "codemirror_mode": {
    "name": "ipython",
    "version": 3
   },
   "file_extension": ".py",
   "mimetype": "text/x-python",
   "name": "python",
   "nbconvert_exporter": "python",
   "pygments_lexer": "ipython3",
   "version": "3.6.5"
  }
 },
 "nbformat": 4,
 "nbformat_minor": 2
}
