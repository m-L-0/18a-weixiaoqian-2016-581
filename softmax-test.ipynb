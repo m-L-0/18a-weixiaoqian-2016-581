{
 "cells": [
  {
   "cell_type": "code",
   "execution_count": 32,
   "metadata": {
    "scrolled": true
   },
   "outputs": [],
   "source": [
    "%matplotlib inline\n",
    "\n",
    "import numpy as np\n",
    "from PIL import Image\n",
    "from matplotlib import pyplot as plt\n",
    "\n",
    "import tensorflow as tf\n",
    "from tensorflow.examples.tutorials.mnist import input_data"
   ]
  },
  {
   "cell_type": "code",
   "execution_count": 33,
   "metadata": {
    "scrolled": true
   },
   "outputs": [
    {
     "name": "stdout",
     "output_type": "stream",
     "text": [
      "Extracting MNIST_data\\train-images-idx3-ubyte.gz\n",
      "Extracting MNIST_data\\train-labels-idx1-ubyte.gz\n",
      "Extracting MNIST_data\\t10k-images-idx3-ubyte.gz\n",
      "Extracting MNIST_data\\t10k-labels-idx1-ubyte.gz\n"
     ]
    }
   ],
   "source": [
    "mnist = input_data.read_data_sets('MNIST_data',one_hot = True)"
   ]
  },
  {
   "cell_type": "code",
   "execution_count": 34,
   "metadata": {},
   "outputs": [
    {
     "data": {
      "text/plain": [
       "(55000, 784)"
      ]
     },
     "execution_count": 34,
     "metadata": {},
     "output_type": "execute_result"
    }
   ],
   "source": [
    "mnist.train.images.shape"
   ]
  },
  {
   "cell_type": "code",
   "execution_count": 35,
   "metadata": {},
   "outputs": [
    {
     "data": {
      "text/plain": [
       "<matplotlib.image.AxesImage at 0x1d72b4f2cc0>"
      ]
     },
     "execution_count": 35,
     "metadata": {},
     "output_type": "execute_result"
    },
    {
     "data": {
      "image/png": "[encoded data removed]",
      "text/plain": [
       "<Figure size 432x288 with 1 Axes>"
      ]
     },
     "metadata": {},
     "output_type": "display_data"
    }
   ],
   "source": [
    "plt.imshow(Image.fromarray((mnist.train.images[1] * 255).astype(np.uint8).reshape([28,28])))"
   ]
  },
  {
   "cell_type": "code",
   "execution_count": 36,
   "metadata": {},
   "outputs": [
    {
     "data": {
      "text/plain": [
       "array([0., 0., 0., 1., 0., 0., 0., 0., 0., 0.])"
      ]
     },
     "execution_count": 36,
     "metadata": {},
     "output_type": "execute_result"
    }
   ],
   "source": [
    "mnist.train.labels[1]"
   ]
  },
  {
   "cell_type": "code",
   "execution_count": 37,
   "metadata": {},
   "outputs": [],
   "source": [
    "batch_images,batch_labels = mnist.train.next_batch(32)"
   ]
  },
  {
   "cell_type": "code",
   "execution_count": 38,
   "metadata": {},
   "outputs": [
    {
     "data": {
      "text/plain": [
       "(32, 784)"
      ]
     },
     "execution_count": 38,
     "metadata": {},
     "output_type": "execute_result"
    }
   ],
   "source": [
    "batch_images.shape"
   ]
  },
  {
   "cell_type": "code",
   "execution_count": 39,
   "metadata": {},
   "outputs": [
    {
     "data": {
      "text/plain": [
       "(32, 10)"
      ]
     },
     "execution_count": 39,
     "metadata": {},
     "output_type": "execute_result"
    }
   ],
   "source": [
    "batch_labels.shape"
   ]
  },
  {
   "cell_type": "code",
   "execution_count": 40,
   "metadata": {},
   "outputs": [],
   "source": [
    "#g构建一个图\n",
    "\n",
    "with tf.Graph().as_default() as g:\n",
    "    inputs = tf.placeholder(shape=[None,784],dtype=tf.float32)\n",
    "    labels = tf.placeholder(shape=[None,10],dtype=tf.float32)\n",
    "    \n",
    "    out_weight = tf.Variable(tf.random_normal([784,10]))\n",
    "    out_bias = tf.Variable(tf.zeros([10, ]))\n",
    "    \n",
    "    out_z = tf.matmul(inputs,out_weight) + out_bias\n",
    "    output = tf.nn.softmax(out_z) #[None,10]\n",
    "        \n",
    "    \n",
    "    loss = tf.reduce_mean( - tf.reduce_sum(labels * tf.log(output + 1e-17),axis=1))\n",
    "    \n",
    "    acc = tf.reduce_mean(tf.cast(tf.equal(tf.argmax(output,axis=1),\n",
    "                                          tf.argmax(labels,axis=1)),tf.float32))\n",
    "    \n",
    "   #定义梯度下降法优化器 \n",
    "    optim = tf.train.GradientDescentOptimizer(learning_rate=0.01)\n",
    "    train_op = optim.minimize(loss)"
   ]
  },
  {
   "cell_type": "code",
   "execution_count": 41,
   "metadata": {},
   "outputs": [
    {
     "name": "stdout",
     "output_type": "stream",
     "text": [
      "loss 14.8982, acc 0.1070\n",
      "loss 7.3417, acc 0.3111\n",
      "loss 2.9135, acc 0.4523\n",
      "loss 2.5354, acc 0.5452\n",
      "loss 4.2585, acc 0.6070\n",
      "loss 1.4865, acc 0.6472\n",
      "loss 1.1665, acc 0.6780\n",
      "loss 1.9068, acc 0.6996\n",
      "loss 1.9513, acc 0.7171\n",
      "loss 1.2706, acc 0.7297\n",
      "loss 1.8372, acc 0.7437\n",
      "loss 1.4970, acc 0.7541\n",
      "loss 1.6350, acc 0.7632\n",
      "loss 1.0724, acc 0.7732\n",
      "loss 0.1888, acc 0.7779\n",
      "loss 1.0991, acc 0.7833\n",
      "loss 1.5118, acc 0.7895\n",
      "loss 1.2012, acc 0.7933\n",
      "loss 0.8494, acc 0.8001\n",
      "loss 1.1994, acc 0.8037\n"
     ]
    }
   ],
   "source": [
    "with tf.Session(graph=g) as sess:\n",
    "    sess.run(tf.global_variables_initializer())\n",
    "    \n",
    "    #训练模型\n",
    "    for i in range(10000):\n",
    "        batch_images,batch_labels = mnist.train.next_batch(32)\n",
    "        res_loss,_ = sess.run([loss,train_op],feed_dict={\n",
    "            inputs: batch_images,\n",
    "            labels: batch_labels\n",
    "        })\n",
    "        \n",
    "        #输出代价并验证模型\n",
    "        if i % 500 == 0:\n",
    "            accs = []\n",
    "            for j in range(10000 // 32):\n",
    "                batch_images,batch_labels = mnist.test.next_batch(32)\n",
    "                res_acc = sess.run(acc,feed_dict={inputs: batch_images,labels: batch_labels})\n",
    "                accs.append(res_acc)\n",
    "            \n",
    "            m_acc = np.mean(accs)\n",
    "            print('loss %2.4f, acc %.4f ' % (res_loss, m_acc))"
   ]
  },
  {
   "cell_type": "code",
   "execution_count": null,
   "metadata": {},
   "outputs": [],
   "source": []
  }
 ],
 "metadata": {
  "kernelspec": {
   "display_name": "Python 3",
   "language": "python",
   "name": "python3"
  },
  "language_info": {
   "codemirror_mode": {
    "name": "ipython",
    "version": 3
   },
   "file_extension": ".py",
   "mimetype": "text/x-python",
   "name": "python",
   "nbconvert_exporter": "python",
   "pygments_lexer": "ipython3",
   "version": "3.6.5"
  }
 },
 "nbformat": 4,
 "nbformat_minor": 2
}
