{
 "cells": [
  {
   "cell_type": "markdown",
   "metadata": {},
   "source": [
    "判断\n",
    "1.互联神经元的连接强度，即突触权值，用于存储获取的知识。Y\n",
    "2.阶跃函数输出“0”时表示神经元兴奋。N\n",
    "3.循环神经网络是一种递归神经网络。Y\n",
    "4.强化学习是无教师学习。Y\n",
    "5.sgn函数是一种S型函数（Sigmoid函数）。N\n",
    "6.训练好的神经网络去除一个神经元，整个神经网络就无法工作。N\n",
    "7.神经元的激活函数不能是线性函数。N\n",
    "8.使用神经网络进行模式分类可以得到分类概率。Y\n",
    "9.M-P模型是一种单层前馈神经网络模型。Y\n",
    "10.神经网络擅长处理计算机视觉任务，所以一切计算机视觉问题使用神经网络解决都是最好的。N\n",
    "\n",
    "选择\n",
    "\n",
    "1.神经网络的基本要素包括：ABD\n",
    "A. 突触  B. 加法器  C. S型函数 D. 激活函数\n",
    "\n",
    "2.神经网络的性质与能力中不包括：D\n",
    "A. 容错性 B. 超大规模集成实现  C. 自适应性 D. 确定性\n",
    "\n",
    "3.关于监督学习的理解错误的是：AC\n",
    "A. 神经网络无法在没有标签的数据中学习知识\n",
    "B. 监督学习也被称为有教师学习\n",
    "C. 强化学习是一种监督学习\n",
    "D. 监督学习是利用带有标签的数据训练模型使模型尽量输出与标记一致的结果\n",
    "\n",
    "4.以下哪些模型不属于神经网络模型：B\n",
    "A. RBF网络  B. SVM  C. RNN  D. SOM网络"
   ]
  },
  {
   "cell_type": "code",
   "execution_count": null,
   "metadata": {},
   "outputs": [],
   "source": [
    "#3. 编写程序\n",
    "#在Python环境下使用Numpy编写Sgn、Logistic激活函数"
   ]
  },
  {
   "cell_type": "code",
   "execution_count": null,
   "metadata": {},
   "outputs": [],
   "source": [
    "import numpy as np\n",
    "def sgn(x):\n",
    "    if x >=0:\n",
    "        return 1\n",
    "    else:\n",
    "        return 0\n",
    "    \n",
    "def logistic(x):\n",
    "    return 1./(1 + np.exp(-x))"
   ]
  }
 ],
 "metadata": {
  "kernelspec": {
   "display_name": "Python 3",
   "language": "python",
   "name": "python3"
  },
  "language_info": {
   "codemirror_mode": {
    "name": "ipython",
    "version": 3
   },
   "file_extension": ".py",
   "mimetype": "text/x-python",
   "name": "python",
   "nbconvert_exporter": "python",
   "pygments_lexer": "ipython3",
   "version": "3.6.5"
  }
 },
 "nbformat": 4,
 "nbformat_minor": 2
}
