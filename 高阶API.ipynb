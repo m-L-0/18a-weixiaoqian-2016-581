{
 "cells": [
  {
   "cell_type": "markdown",
   "metadata": {},
   "source": [
    "复现代码\n",
    "2、比较使用高级API与使用低级API模型性能的差别，分析可能造成的原因"
   ]
  },
  {
   "cell_type": "code",
   "execution_count": 1,
   "metadata": {},
   "outputs": [
    {
     "name": "stderr",
     "output_type": "stream",
     "text": [
      "D:\\AN\\lib\\site-packages\\h5py\\__init__.py:36: FutureWarning: Conversion of the second argument of issubdtype from `float` to `np.floating` is deprecated. In future, it will be treated as `np.float64 == np.dtype(float).type`.\n",
      "  from ._conv import register_converters as _register_converters\n"
     ]
    }
   ],
   "source": [
    "import numpy as np\n",
    "import tensorflow as tf\n",
    "from tensorflow.examples.tutorials.mnist import input_data"
   ]
  },
  {
   "cell_type": "code",
   "execution_count": 2,
   "metadata": {},
   "outputs": [
    {
     "name": "stdout",
     "output_type": "stream",
     "text": [
      "WARNING:tensorflow:From <ipython-input-2-b3b8835fef66>:1: read_data_sets (from tensorflow.contrib.learn.python.learn.datasets.mnist) is deprecated and will be removed in a future version.\n",
      "Instructions for updating:\n",
      "Please use alternatives such as official/mnist/dataset.py from tensorflow/models.\n",
      "WARNING:tensorflow:From D:\\AN\\lib\\site-packages\\tensorflow\\contrib\\learn\\python\\learn\\datasets\\mnist.py:260: maybe_download (from tensorflow.contrib.learn.python.learn.datasets.base) is deprecated and will be removed in a future version.\n",
      "Instructions for updating:\n",
      "Please write your own downloading logic.\n",
      "WARNING:tensorflow:From D:\\AN\\lib\\site-packages\\tensorflow\\contrib\\learn\\python\\learn\\datasets\\mnist.py:262: extract_images (from tensorflow.contrib.learn.python.learn.datasets.mnist) is deprecated and will be removed in a future version.\n",
      "Instructions for updating:\n",
      "Please use tf.data to implement this functionality.\n",
      "Extracting MNIST_data\\train-images-idx3-ubyte.gz\n",
      "WARNING:tensorflow:From D:\\AN\\lib\\site-packages\\tensorflow\\contrib\\learn\\python\\learn\\datasets\\mnist.py:267: extract_labels (from tensorflow.contrib.learn.python.learn.datasets.mnist) is deprecated and will be removed in a future version.\n",
      "Instructions for updating:\n",
      "Please use tf.data to implement this functionality.\n",
      "Extracting MNIST_data\\train-labels-idx1-ubyte.gz\n",
      "WARNING:tensorflow:From D:\\AN\\lib\\site-packages\\tensorflow\\contrib\\learn\\python\\learn\\datasets\\mnist.py:110: dense_to_one_hot (from tensorflow.contrib.learn.python.learn.datasets.mnist) is deprecated and will be removed in a future version.\n",
      "Instructions for updating:\n",
      "Please use tf.one_hot on tensors.\n",
      "Extracting MNIST_data\\t10k-images-idx3-ubyte.gz\n",
      "Extracting MNIST_data\\t10k-labels-idx1-ubyte.gz\n",
      "WARNING:tensorflow:From D:\\AN\\lib\\site-packages\\tensorflow\\contrib\\learn\\python\\learn\\datasets\\mnist.py:290: DataSet.__init__ (from tensorflow.contrib.learn.python.learn.datasets.mnist) is deprecated and will be removed in a future version.\n",
      "Instructions for updating:\n",
      "Please use alternatives such as official/mnist/dataset.py from tensorflow/models.\n"
     ]
    }
   ],
   "source": [
    "mnist = input_data.read_data_sets('MNIST_data',one_hot=True)"
   ]
  },
  {
   "cell_type": "markdown",
   "metadata": {},
   "source": [
    "使用便捷内置代价函数"
   ]
  },
  {
   "cell_type": "code",
   "execution_count": 5,
   "metadata": {},
   "outputs": [
    {
     "name": "stdout",
     "output_type": "stream",
     "text": [
      "step     0,loss 73.5269,acc 0.0932\n",
      "step   500,loss 5.1310,acc 0.7601\n",
      "step  1000,loss 7.0535,acc 0.8116\n",
      "step  1500,loss 5.1112,acc 0.8340\n",
      "step  2000,loss 3.0746,acc 0.8465\n",
      "step  2500,loss 4.0303,acc 0.8578\n",
      "step  3000,loss 0.2184,acc 0.8671\n",
      "step  3500,loss 0.2203,acc 0.8725\n",
      "step  4000,loss 2.4274,acc 0.8718\n",
      "step  4500,loss 2.7656,acc 0.8829\n",
      "step  5000,loss 3.8996,acc 0.8789\n",
      "step  5500,loss 0.0000,acc 0.8814\n",
      "step  6000,loss 2.1060,acc 0.8867\n",
      "step  6500,loss 0.9984,acc 0.8897\n",
      "step  7000,loss 0.7719,acc 0.8885\n",
      "step  7500,loss 1.8175,acc 0.8896\n",
      "step  8000,loss 2.0435,acc 0.8951\n",
      "step  8500,loss 1.0670,acc 0.8931\n",
      "step  9000,loss 0.8269,acc 0.8942\n",
      "step  9500,loss 0.9747,acc 0.8937\n",
      "step 10000,loss 0.5493,acc 0.8935\n",
      "step 10500,loss 0.0575,acc 0.8941\n",
      "step 11000,loss 2.6666,acc 0.8952\n",
      "step 11500,loss 1.4855,acc 0.8968\n",
      "step 12000,loss 1.9012,acc 0.8966\n",
      "step 12500,loss 1.4134,acc 0.9006\n",
      "step 13000,loss 0.3089,acc 0.9001\n",
      "step 13500,loss 1.7924,acc 0.8978\n",
      "step 14000,loss 1.3304,acc 0.8995\n",
      "step 14500,loss 1.6518,acc 0.9025\n",
      "step 15000,loss 0.2467,acc 0.8991\n",
      "step 15500,loss 0.3114,acc 0.9043\n",
      "step 16000,loss 0.0924,acc 0.9021\n",
      "step 16500,loss 1.7985,acc 0.9021\n",
      "step 17000,loss 0.4616,acc 0.9059\n",
      "step 17500,loss 0.3930,acc 0.9061\n",
      "step 18000,loss 1.0908,acc 0.9074\n",
      "step 18500,loss 0.1730,acc 0.9040\n",
      "step 19000,loss 0.9138,acc 0.9078\n",
      "step 19500,loss 0.0348,acc 0.9036\n"
     ]
    }
   ],
   "source": [
    "with tf.Graph().as_default() as g:\n",
    "    #输入、标记占位符\n",
    "    inputs = tf.placeholder(shape=[None,784],dtype=tf.float32)\n",
    "    labels = tf.placeholder(shape=[None,10],dtype=tf.float32)\n",
    "    \n",
    "    #创建128个隐藏层神经元参数\n",
    "    hidden_weight = tf.Variable(tf.random_normal([784,128]),name='hidden_weight')\n",
    "    hidden_bias = tf.Variable(tf.zeros([128, ]),name='hidden_bias')\n",
    "    \n",
    "    #隐藏层前向传播\n",
    "    hidden_output = tf.nn.relu(tf.matmul(inputs,hidden_weight) + hidden_bias)\n",
    "    \n",
    "    #创建输出层10个神经元参数\n",
    "    output_weight = tf.Variable(tf.random_normal([128,10],name='output_weight'))\n",
    "    output_bias = tf.Variable(tf.zeros([10, ]),name='output_bias')\n",
    "    \n",
    "    #输出层前向传播\n",
    "    logits = tf.matmul(hidden_output,output_weight) + output_bias\n",
    "    output = tf.nn.softmax(logits)\n",
    "    \n",
    "    #代价函数\n",
    "    loss = tf.reduce_mean(tf.nn.softmax_cross_entropy_with_logits_v2(logits=logits,labels=labels))\n",
    "    \n",
    "    #正确率\n",
    "    acc = tf.reduce_mean(tf.cast(tf.equal(tf.argmax(labels,axis=1),tf.argmax(output,axis=1)),tf.float32))\n",
    "    \n",
    "    \n",
    "    with tf.Session(graph=g) as sess:\n",
    "        #定义梯度下降法优化器\n",
    "        optim = tf.train.GradientDescentOptimizer(learning_rate=0.01)\n",
    "        train_op = optim.minimize(loss)\n",
    "        sess.run(tf.global_variables_initializer())\n",
    "        \n",
    "        #训练模型\n",
    "        for step in range(20000):\n",
    "            batch_images,batch_labels = mnist.train.next_batch(32)\n",
    "            res_loss,_ = sess.run([loss,train_op],feed_dict={inputs:batch_images,labels:batch_labels})\n",
    "            \n",
    "            #输出代价并验证模型：\n",
    "            if step % 500 == 0:\n",
    "                accs = []\n",
    "                \n",
    "                for test_step in range(10000 // 32):\n",
    "                    batch_images,batch_labels = mnist.test.next_batch(32)\n",
    "                    res_acc = sess.run(acc,feed_dict={inputs:batch_images,labels:batch_labels})\n",
    "                    accs.append(res_acc)\n",
    "                accs = np.mean(accs)\n",
    "                print('step %5d,loss %2.4f,acc %.4f' % (step,res_loss,accs))\n"
   ]
  },
  {
   "cell_type": "code",
   "execution_count": null,
   "metadata": {},
   "outputs": [],
   "source": [
    "使用便捷的高级完成神经网络层的创建"
   ]
  },
  {
   "cell_type": "code",
   "execution_count": 4,
   "metadata": {},
   "outputs": [
    {
     "name": "stdout",
     "output_type": "stream",
     "text": [
      "step     0, loss 2.3790, acc 0.1323\n",
      "step   500, loss 0.5474, acc 0.8608\n",
      "step  1000, loss 0.4044, acc 0.8880\n",
      "step  1500, loss 0.4148, acc 0.8978\n",
      "step  2000, loss 0.4638, acc 0.9051\n",
      "step  2500, loss 0.2757, acc 0.9086\n",
      "step  3000, loss 0.3705, acc 0.9106\n",
      "step  3500, loss 0.2451, acc 0.9141\n",
      "step  4000, loss 0.2879, acc 0.9171\n",
      "step  4500, loss 0.1890, acc 0.9204\n",
      "step  5000, loss 0.1310, acc 0.9251\n",
      "step  5500, loss 0.2982, acc 0.9236\n",
      "step  6000, loss 0.3924, acc 0.9258\n",
      "step  6500, loss 0.2321, acc 0.9271\n",
      "step  7000, loss 0.1846, acc 0.9293\n",
      "step  7500, loss 0.3247, acc 0.9322\n",
      "step  8000, loss 0.1611, acc 0.9334\n",
      "step  8500, loss 0.0872, acc 0.9339\n",
      "step  9000, loss 0.3946, acc 0.9342\n",
      "step  9500, loss 0.1182, acc 0.9367\n",
      "step 10000, loss 0.1133, acc 0.9373\n",
      "step 10500, loss 0.1640, acc 0.9382\n",
      "step 11000, loss 0.0629, acc 0.9395\n",
      "step 11500, loss 0.0667, acc 0.9403\n",
      "step 12000, loss 0.1430, acc 0.9411\n",
      "step 12500, loss 0.1724, acc 0.9417\n",
      "step 13000, loss 0.1606, acc 0.9435\n",
      "step 13500, loss 0.1356, acc 0.9438\n",
      "step 14000, loss 0.0397, acc 0.9442\n",
      "step 14500, loss 0.2635, acc 0.9429\n",
      "step 15000, loss 0.3882, acc 0.9446\n",
      "step 15500, loss 0.1490, acc 0.9477\n",
      "step 16000, loss 0.2828, acc 0.9472\n",
      "step 16500, loss 0.0917, acc 0.9480\n",
      "step 17000, loss 0.0985, acc 0.9487\n",
      "step 17500, loss 0.1913, acc 0.9473\n",
      "step 18000, loss 0.4145, acc 0.9490\n",
      "step 18500, loss 0.1451, acc 0.9503\n",
      "step 19000, loss 0.3778, acc 0.9499\n",
      "step 19500, loss 0.1497, acc 0.9504\n"
     ]
    }
   ],
   "source": [
    "with tf.Graph().as_default() as g:\n",
    "    # 输入、标记占位符\n",
    "    inputs = tf.placeholder(shape=[None, 784], dtype=tf.float32)\n",
    "    labels = tf.placeholder(shape=[None, 10], dtype=tf.float32)\n",
    "    \n",
    "    # 隐藏层与输出层\n",
    "    hidden_output = tf.keras.layers.Dense(\n",
    "        128, activation=tf.nn.relu)(inputs)\n",
    "    \n",
    "    logits = tf.keras.layers.Dense(\n",
    "        10, activation=None)(hidden_output)\n",
    "    output = tf.nn.softmax(logits)\n",
    "    \n",
    "    # 代价函数\n",
    "    loss = tf.reduce_mean(tf.nn.softmax_cross_entropy_with_logits_v2(\n",
    "        logits=logits, labels=labels))\n",
    "    \n",
    "    # 正确率\n",
    "    acc = tf.reduce_mean(\n",
    "        tf.cast(tf.equal(tf.argmax(labels, axis=1), tf.argmax(output, axis=1)),\n",
    "                tf.float32))\n",
    "\n",
    "\n",
    "with tf.Session(graph=g) as sess:\n",
    "    # 定义梯度下降法优化器\n",
    "    optim = tf.train.GradientDescentOptimizer(learning_rate=0.01)\n",
    "    train_op = optim.minimize(loss)\n",
    "    sess.run(tf.global_variables_initializer())\n",
    "    \n",
    "    # 训练模型\n",
    "    for step in range(20000):\n",
    "        batch_images, batch_labels = mnist.train.next_batch(32)\n",
    "        res_loss, _ = sess.run([loss, train_op], feed_dict={\n",
    "            inputs: batch_images,\n",
    "            labels: batch_labels\n",
    "        })\n",
    "        \n",
    "        # 输出代价并验证模型\n",
    "        if step % 500 == 0:\n",
    "            accs = []\n",
    "            for test_step in range(10000 // 32):\n",
    "                batch_images, batch_labels = mnist.test.next_batch(32)\n",
    "                res_acc = sess.run(acc, feed_dict={\n",
    "                    inputs: batch_images,\n",
    "                    labels: batch_labels\n",
    "                })\n",
    "                accs.append(res_acc)\n",
    "            accs = np.mean(accs)\n",
    "            print('step %5d, loss %2.4f, acc %.4f' % (step, res_loss, accs))"
   ]
  },
  {
   "cell_type": "markdown",
   "metadata": {},
   "source": [
    "高级API是为了降低大家的编码难度而设置的。Tensorflow更高层的API使得配置，训练，评估多种多样的机器学习模型更简单方便了。"
   ]
  }
 ],
 "metadata": {
  "kernelspec": {
   "display_name": "Python 3",
   "language": "python",
   "name": "python3"
  },
  "language_info": {
   "codemirror_mode": {
    "name": "ipython",
    "version": 3
   },
   "file_extension": ".py",
   "mimetype": "text/x-python",
   "name": "python",
   "nbconvert_exporter": "python",
   "pygments_lexer": "ipython3",
   "version": "3.6.5"
  }
 },
 "nbformat": 4,
 "nbformat_minor": 2
}
