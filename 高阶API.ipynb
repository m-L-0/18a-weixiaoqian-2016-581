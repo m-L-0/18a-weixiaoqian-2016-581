{
 "cells": [
  {
   "cell_type": "markdown",
   "metadata": {},
   "source": [
    "复现代码\n",
    "2、比较使用高级API与使用低级API模型性能的差别，分析可能造成的原因"
   ]
  },
  {
   "cell_type": "code",
   "execution_count": 4,
   "metadata": {},
   "outputs": [],
   "source": [
    "import numpy as np\n",
    "import tensorflow as tf\n",
    "from tensorflow.examples.tutorials.mnist import input_data"
   ]
  },
  {
   "cell_type": "code",
   "execution_count": 5,
   "metadata": {},
   "outputs": [
    {
     "name": "stdout",
     "output_type": "stream",
     "text": [
      "WARNING:tensorflow:From <ipython-input-5-b3b8835fef66>:1: read_data_sets (from tensorflow.contrib.learn.python.learn.datasets.mnist) is deprecated and will be removed in a future version.\n",
      "Instructions for updating:\n",
      "Please use alternatives such as official/mnist/dataset.py from tensorflow/models.\n",
      "WARNING:tensorflow:From D:\\AN\\lib\\site-packages\\tensorflow\\contrib\\learn\\python\\learn\\datasets\\mnist.py:260: maybe_download (from tensorflow.contrib.learn.python.learn.datasets.base) is deprecated and will be removed in a future version.\n",
      "Instructions for updating:\n",
      "Please write your own downloading logic.\n",
      "WARNING:tensorflow:From D:\\AN\\lib\\site-packages\\tensorflow\\contrib\\learn\\python\\learn\\datasets\\mnist.py:262: extract_images (from tensorflow.contrib.learn.python.learn.datasets.mnist) is deprecated and will be removed in a future version.\n",
      "Instructions for updating:\n",
      "Please use tf.data to implement this functionality.\n",
      "Extracting MNIST_data\\train-images-idx3-ubyte.gz\n",
      "WARNING:tensorflow:From D:\\AN\\lib\\site-packages\\tensorflow\\contrib\\learn\\python\\learn\\datasets\\mnist.py:267: extract_labels (from tensorflow.contrib.learn.python.learn.datasets.mnist) is deprecated and will be removed in a future version.\n",
      "Instructions for updating:\n",
      "Please use tf.data to implement this functionality.\n",
      "Extracting MNIST_data\\train-labels-idx1-ubyte.gz\n",
      "WARNING:tensorflow:From D:\\AN\\lib\\site-packages\\tensorflow\\contrib\\learn\\python\\learn\\datasets\\mnist.py:110: dense_to_one_hot (from tensorflow.contrib.learn.python.learn.datasets.mnist) is deprecated and will be removed in a future version.\n",
      "Instructions for updating:\n",
      "Please use tf.one_hot on tensors.\n",
      "Extracting MNIST_data\\t10k-images-idx3-ubyte.gz\n",
      "Extracting MNIST_data\\t10k-labels-idx1-ubyte.gz\n",
      "WARNING:tensorflow:From D:\\AN\\lib\\site-packages\\tensorflow\\contrib\\learn\\python\\learn\\datasets\\mnist.py:290: DataSet.__init__ (from tensorflow.contrib.learn.python.learn.datasets.mnist) is deprecated and will be removed in a future version.\n",
      "Instructions for updating:\n",
      "Please use alternatives such as official/mnist/dataset.py from tensorflow/models.\n"
     ]
    }
   ],
   "source": [
    "mnist = input_data.read_data_sets('MNIST_data',one_hot=True)"
   ]
  },
  {
   "cell_type": "code",
   "execution_count": 9,
   "metadata": {},
   "outputs": [
    {
     "name": "stdout",
     "output_type": "stream",
     "text": [
      "step     0,loss 173.6963,acc 0.0483\n",
      "step   500,loss 10.5830,acc 0.7551\n",
      "step  1000,loss 2.7155,acc 0.8150\n",
      "step  1500,loss 1.1467,acc 0.8399\n",
      "step  2000,loss 2.3002,acc 0.8494\n",
      "step  2500,loss 3.6629,acc 0.8558\n",
      "step  3000,loss 0.0417,acc 0.8673\n",
      "step  3500,loss 6.4831,acc 0.8687\n",
      "step  4000,loss 1.4581,acc 0.8714\n",
      "step  4500,loss 0.7100,acc 0.8752\n",
      "step  5000,loss 1.7195,acc 0.8812\n",
      "step  5500,loss 3.0660,acc 0.8833\n",
      "step  6000,loss 1.3766,acc 0.8869\n",
      "step  6500,loss 0.1128,acc 0.8866\n",
      "step  7000,loss 2.1298,acc 0.8892\n",
      "step  7500,loss 2.2534,acc 0.8928\n",
      "step  8000,loss 3.2966,acc 0.8902\n",
      "step  8500,loss 0.4713,acc 0.8905\n",
      "step  9000,loss 2.3015,acc 0.8940\n",
      "step  9500,loss 0.5354,acc 0.8964\n",
      "step 10000,loss 0.6774,acc 0.8919\n",
      "step 10500,loss 2.3059,acc 0.8965\n",
      "step 11000,loss 1.5199,acc 0.8988\n",
      "step 11500,loss 0.3335,acc 0.8947\n",
      "step 12000,loss 0.2331,acc 0.9003\n",
      "step 12500,loss 1.1859,acc 0.8956\n",
      "step 13000,loss 0.0273,acc 0.9005\n",
      "step 13500,loss 0.4404,acc 0.9001\n",
      "step 14000,loss 1.1633,acc 0.9015\n",
      "step 14500,loss 0.0527,acc 0.9007\n",
      "step 15000,loss 0.2059,acc 0.8980\n",
      "step 15500,loss 1.4002,acc 0.9073\n",
      "step 16000,loss 0.2899,acc 0.9047\n",
      "step 16500,loss 0.0004,acc 0.9082\n",
      "step 17000,loss 0.0455,acc 0.9050\n",
      "step 17500,loss 0.2287,acc 0.9091\n",
      "step 18000,loss 1.3095,acc 0.9074\n",
      "step 18500,loss 0.6082,acc 0.9087\n",
      "step 19000,loss 0.8479,acc 0.9038\n",
      "step 19500,loss 0.3290,acc 0.9106\n"
     ]
    }
   ],
   "source": [
    "with tf.Graph().as_default() as g:\n",
    "    #输入、标记占位符\n",
    "    inputs = tf.placeholder(shape=[None,784],dtype=tf.float32)\n",
    "    labels = tf.placeholder(shape=[None,10],dtype=tf.float32)\n",
    "    \n",
    "    #创建128个隐藏层神经元参数\n",
    "    hidden_weight = tf.Variable(tf.random_normal([784,128]),name='hidden_weight')\n",
    "    hidden_bias = tf.Variable(tf.zeros([128, ]),name='hidden_bias')\n",
    "    \n",
    "    #隐藏层前向传播\n",
    "    hidden_output = tf.nn.relu(tf.matmul(inputs,hidden_weight) + hidden_bias)\n",
    "    \n",
    "    #创建输出层10个神经元参数\n",
    "    output_weight = tf.Variable(tf.random_normal([128,10],name='output_weight'))\n",
    "    output_bias = tf.Variable(tf.zeros([10, ]),name='output_bias')\n",
    "    \n",
    "    #输出层前向传播\n",
    "    logits = tf.matmul(hidden_output,output_weight) + output_bias\n",
    "    output = tf.nn.softmax(logits)\n",
    "    \n",
    "    #代价函数\n",
    "    loss = tf.reduce_mean(tf.nn.softmax_cross_entropy_with_logits_v2(logits=logits,labels=labels))\n",
    "    \n",
    "    #正确率\n",
    "    acc = tf.reduce_mean(tf.cast(tf.equal(tf.argmax(labels,axis=1),tf.argmax(output,axis=1)),tf.float32))\n",
    "    \n",
    "    \n",
    "    with tf.Session(graph=g) as sess:\n",
    "        #定义梯度下降法优化器\n",
    "        optim = tf.train.GradientDescentOptimizer(learning_rate=0.01)\n",
    "        train_op = optim.minimize(loss)\n",
    "        sess.run(tf.global_variables_initializer())\n",
    "        \n",
    "        #训练模型\n",
    "        for step in range(20000):\n",
    "            batch_images,batch_labels = mnist.train.next_batch(32)\n",
    "            res_loss,_ = sess.run([loss,train_op],feed_dict={inputs:batch_images,labels:batch_labels})\n",
    "            \n",
    "            #输出代价并验证模型：\n",
    "            if step % 500 == 0:\n",
    "                accs = []\n",
    "                \n",
    "                for test_step in range(10000 // 32):\n",
    "                    batch_images,batch_labels = mnist.test.next_batch(32)\n",
    "                    res_acc = sess.run(acc,feed_dict={inputs:batch_images,labels:batch_labels})\n",
    "                    accs.append(res_acc)\n",
    "                accs = np.mean(accs)\n",
    "                print('step %5d,loss %2.4f,acc %.4f' % (step,res_loss,accs))\n"
   ]
  },
  {
   "cell_type": "markdown",
   "metadata": {},
   "source": [
    "高级API是为了降低大家的编码难度而设置的。Tensorflow更高层的API使得配置，训练，评估多种多样的机器学习模型更简单方便了。"
   ]
  }
 ],
 "metadata": {
  "kernelspec": {
   "display_name": "Python 3",
   "language": "python",
   "name": "python3"
  },
  "language_info": {
   "codemirror_mode": {
    "name": "ipython",
    "version": 3
   },
   "file_extension": ".py",
   "mimetype": "text/x-python",
   "name": "python",
   "nbconvert_exporter": "python",
   "pygments_lexer": "ipython3",
   "version": "3.6.5"
  }
 },
 "nbformat": 4,
 "nbformat_minor": 2
}
