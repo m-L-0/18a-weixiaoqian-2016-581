{
 "cells": [
  {
   "cell_type": "code",
   "execution_count": null,
   "metadata": {},
   "outputs": [],
   "source": [
    "#1. 总结name_scope与variable_scope的作用以及异同点"
   ]
  },
  {
   "cell_type": "markdown",
   "metadata": {},
   "source": [
    "在 tf.name_scope下时，tf.get_variable()创建的变量名不受 name_scope 的影响，而且在未指定共享变量时，如果重名会报错，tf.Variable()会自动检测有没有变量重名，如果有则会自行处理。"
   ]
  },
  {
   "cell_type": "code",
   "execution_count": null,
   "metadata": {},
   "outputs": [],
   "source": [
    "import tensorflow as tf\n",
    "\n",
    "with tf.name_scope('name_scope_x'):\n",
    "    var1 = tf.get_variable(name='var1', shape=[1], dtype=tf.float32)\n",
    "    var3 = tf.Variable(name='var2', initial_value=[2], dtype=tf.float32)\n",
    "    var4 = tf.Variable(name='var2', initial_value=[2], dtype=tf.float32)\n",
    "\n",
    "with tf.Session() as sess:\n",
    "    sess.run(tf.global_variables_initializer())\n",
    "    print(var1.name, sess.run(var1))\n",
    "    print(var3.name, sess.run(var3))\n",
    "    print(var4.name, sess.run(var4))\n"
   ]
  },
  {
   "cell_type": "code",
   "execution_count": null,
   "metadata": {},
   "outputs": [],
   "source": [
    "# 输出结果：\n",
    "# var1:0 [-0.30036557]   可以看到前面不含有指定的'name_scope_x'\n",
    "# name_scope_x/var2:0 [ 2.]\n",
    "# name_scope_x/var2_1:0 [ 2.]  可以看到变量名自行变成了'var2_1'，避免了和'var2'冲突"
   ]
  },
  {
   "cell_type": "code",
   "execution_count": null,
   "metadata": {},
   "outputs": [],
   "source": [
    "#如果使用tf.get_variable()创建变量，且没有设置共享变量，重名时会报错"
   ]
  },
  {
   "cell_type": "code",
   "execution_count": null,
   "metadata": {},
   "outputs": [],
   "source": [
    "import tensorflow as tf\n",
    "\n",
    "with tf.name_scope('name_scope_1'):\n",
    "    var1 = tf.get_variable(name='var1', shape=[1], dtype=tf.float32)\n",
    "    var2 = tf.get_variable(name='var1', shape=[1], dtype=tf.float32)\n",
    "with tf.Session() as sess:\n",
    "    sess.run(tf.global_variables_initializer())\n",
    "    print(var1.name, sess.run(var1))\n",
    "    print(var2.name, sess.run(var2))\n",
    "\n",
    "# ValueError: Variable var1 already exists, disallowed. Did you mean \n",
    "# to set reuse=True in VarScope? Originally defined at:\n",
    "# var1 = tf.get_variable(name='var1', shape=[1], dtype=tf.float32)"
   ]
  },
  {
   "cell_type": "code",
   "execution_count": null,
   "metadata": {},
   "outputs": [],
   "source": [
    "#所以要共享变量，需要使用tf.variable_scope()"
   ]
  },
  {
   "cell_type": "code",
   "execution_count": null,
   "metadata": {},
   "outputs": [],
   "source": [
    "import tensorflow as tf\n",
    "\n",
    "with tf.variable_scope('variable_scope_y') as scope:\n",
    "    var1 = tf.get_variable(name='var1', shape=[1], dtype=tf.float32)\n",
    "    scope.reuse_variables()  # 设置共享变量\n",
    "    var1_reuse = tf.get_variable(name='var1')\n",
    "    var2 = tf.Variable(initial_value=[2.], name='var2', dtype=tf.float32)\n",
    "    var2_reuse = tf.Variable(initial_value=[2.], name='var2', dtype=tf.float32)\n",
    "\n",
    "with tf.Session() as sess:\n",
    "    sess.run(tf.global_variables_initializer())\n",
    "    print(var1.name, sess.run(var1))\n",
    "    print(var1_reuse.name, sess.run(var1_reuse))\n",
    "    print(var2.name, sess.run(var2))\n",
    "    print(var2_reuse.name, sess.run(var2_reuse))\n",
    "# 输出结果：\n",
    "# variable_scope_y/var1:0 [-1.59682846]\n",
    "# variable_scope_y/var1:0 [-1.59682846]   可以看到变量var1_reuse重复使用了var1\n",
    "# variable_scope_y/var2:0 [ 2.]\n",
    "# variable_scope_y/var2_1:0 [ 2.]"
   ]
  },
  {
   "cell_type": "markdown",
   "metadata": {},
   "source": [
    "2. 构建逻辑回归模型（只有模型部分，不包括训练部分），使用get_variable与variable_scope将变量的创建与使用分开。提示：使用tf.nn.sigmoid实现logistic函数"
   ]
  },
  {
   "cell_type": "code",
   "execution_count": null,
   "metadata": {},
   "outputs": [],
   "source": [
    "def LogisticRegression(x_train,y_train,learning_rates=0.001,epochs=1000):\n",
    "    # 设置训练变量\n",
    "    x = tf.placeholder(tf.float32)\n",
    "    y = tf.placeholder(tf.float32)\n",
    "    \n",
    "    # 设置参数\n",
    "    w = tf.Variable(np.random.randn(),dtype=tf.float32)\n",
    "    b = tf.Variable(np.random.randn(),dtype=tf.float32)\n",
    "    \n",
    "    # 设置损失函数\n",
    "    db = tf.matmul(x, tf.reshape(x, [-1, 1])) + b\n",
    "    hyp = tf.sigmoid(db)\n",
    "    \n",
    "    smaple_num = train_x.shape[0]\n",
    "    cost0 = y * tf.log(hyp)\n",
    "    cost1 = (1 - y) * tf.log(1 - hyp)\n",
    "    cost = (cost0 + cost1) / - sample_num\n",
    "    loss = tf.reduce_sum(cost)\n",
    "    \n",
    "    # 梯度下降法\n",
    "    optimizer = tf.train.GradientDescentOptimizer(learning_rate=learning_rates)\n",
    "    train = optimizer.minimize(loss)\n",
    "    \n",
    "    # 对参数进行迭代\n",
    "    for index in range(epochs):\n",
    "        sess.run(optimizer,{x:train_x,y:train_y}) \n",
    "    b = sess.run(b)\n",
    "    \n",
    "    #输出参数\n",
    "    return w,b"
   ]
  }
 ],
 "metadata": {
  "kernelspec": {
   "display_name": "Python 3",
   "language": "python",
   "name": "python3"
  },
  "language_info": {
   "codemirror_mode": {
    "name": "ipython",
    "version": 3
   },
   "file_extension": ".py",
   "mimetype": "text/x-python",
   "name": "python",
   "nbconvert_exporter": "python",
   "pygments_lexer": "ipython3",
   "version": "3.6.5"
  }
 },
 "nbformat": 4,
 "nbformat_minor": 2
}
