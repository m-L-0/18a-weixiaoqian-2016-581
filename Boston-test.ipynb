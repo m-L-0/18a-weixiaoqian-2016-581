{
 "cells": [
  {
   "cell_type": "markdown",
   "metadata": {},
   "source": [
    "1、复现房价预测代码"
   ]
  },
  {
   "cell_type": "code",
   "execution_count": 1,
   "metadata": {},
   "outputs": [
    {
     "name": "stderr",
     "output_type": "stream",
     "text": [
      "D:\\AN\\lib\\site-packages\\h5py\\__init__.py:36: FutureWarning: Conversion of the second argument of issubdtype from `float` to `np.floating` is deprecated. In future, it will be treated as `np.float64 == np.dtype(float).type`.\n",
      "  from ._conv import register_converters as _register_converters\n"
     ]
    }
   ],
   "source": [
    "import numpy as np\n",
    "import tensorflow as tf"
   ]
  },
  {
   "cell_type": "code",
   "execution_count": 2,
   "metadata": {},
   "outputs": [],
   "source": [
    "(train_data,train_label),(test_data,test_label) = tf.keras.datasets.boston_housing.load_data()"
   ]
  },
  {
   "cell_type": "code",
   "execution_count": 3,
   "metadata": {},
   "outputs": [
    {
     "data": {
      "text/plain": [
       "(404, 13)"
      ]
     },
     "execution_count": 3,
     "metadata": {},
     "output_type": "execute_result"
    }
   ],
   "source": [
    "train_data.shape"
   ]
  },
  {
   "cell_type": "code",
   "execution_count": 4,
   "metadata": {},
   "outputs": [
    {
     "data": {
      "text/plain": [
       "(404,)"
      ]
     },
     "execution_count": 4,
     "metadata": {},
     "output_type": "execute_result"
    }
   ],
   "source": [
    "train_label.shape"
   ]
  },
  {
   "cell_type": "code",
   "execution_count": 5,
   "metadata": {},
   "outputs": [
    {
     "name": "stdout",
     "output_type": "stream",
     "text": [
      "epoch   0,train loss 138.5691,val loss 900.3167\n",
      "epoch   1,train loss 150.9073,val loss 134.6945\n",
      "epoch   2,train loss 131.4381,val loss 140.8276\n",
      "epoch   3,train loss 137.6016,val loss 125.4569\n",
      "epoch   4,train loss 147.1180,val loss 121.4861\n",
      "epoch   5,train loss 171.0706,val loss 122.2754\n",
      "epoch   6,train loss 98.9488,val loss 115.3634\n",
      "epoch   7,train loss 155.6509,val loss 123.8520\n",
      "epoch   8,train loss 107.9781,val loss 112.7397\n",
      "epoch   9,train loss 104.4728,val loss 122.0167\n",
      "epoch  10,train loss 88.3105,val loss 107.3109\n",
      "epoch  11,train loss 91.7798,val loss 106.1935\n",
      "epoch  12,train loss 30.7671,val loss 111.1259\n",
      "epoch  13,train loss 89.4868,val loss 104.3572\n",
      "epoch  14,train loss 110.1225,val loss 113.7430\n",
      "epoch  15,train loss 110.6041,val loss 106.3271\n",
      "epoch  16,train loss 164.4349,val loss 111.2591\n",
      "epoch  17,train loss 114.6966,val loss 100.8824\n",
      "epoch  18,train loss 60.4557,val loss 109.7767\n",
      "epoch  19,train loss 110.8091,val loss 114.6620\n",
      "epoch  20,train loss 107.2344,val loss 102.6751\n",
      "epoch  21,train loss 94.2023,val loss 96.8207\n",
      "epoch  22,train loss 111.6124,val loss 117.1511\n",
      "epoch  23,train loss 149.5669,val loss 104.3256\n",
      "epoch  24,train loss 111.9103,val loss 101.6399\n",
      "epoch  25,train loss 106.1181,val loss 113.3375\n",
      "epoch  26,train loss 100.7960,val loss 94.8921\n",
      "epoch  27,train loss 127.5714,val loss 100.0774\n",
      "epoch  28,train loss 141.5746,val loss 103.3533\n",
      "epoch  29,train loss 148.0442,val loss 100.7067\n",
      "epoch  30,train loss 84.4667,val loss 96.9544\n",
      "epoch  31,train loss 124.3690,val loss 99.2822\n",
      "epoch  32,train loss 55.4021,val loss 101.2357\n",
      "epoch  33,train loss 97.6368,val loss 104.6927\n",
      "epoch  34,train loss 81.2534,val loss 97.7466\n",
      "epoch  35,train loss 87.9199,val loss 98.1538\n",
      "epoch  36,train loss 74.1371,val loss 109.4625\n",
      "epoch  37,train loss 142.5315,val loss 96.9623\n",
      "epoch  38,train loss 104.2061,val loss 97.2197\n",
      "epoch  39,train loss 111.6173,val loss 98.8712\n",
      "epoch  40,train loss 105.1837,val loss 98.5685\n",
      "epoch  41,train loss 88.2021,val loss 97.7467\n",
      "epoch  42,train loss 137.4670,val loss 95.7215\n",
      "epoch  43,train loss 106.1597,val loss 96.6030\n",
      "epoch  44,train loss 122.6592,val loss 100.2075\n",
      "epoch  45,train loss 123.2837,val loss 95.9097\n",
      "epoch  46,train loss 50.4820,val loss 100.7147\n",
      "epoch  47,train loss 96.3679,val loss 101.4979\n",
      "epoch  48,train loss 82.8365,val loss 103.8039\n",
      "epoch  49,train loss 117.8222,val loss 104.1786\n",
      "epoch  50,train loss 103.3082,val loss 91.0417\n",
      "epoch  51,train loss 113.2850,val loss 96.2939\n",
      "epoch  52,train loss 71.0638,val loss 94.6791\n",
      "epoch  53,train loss 85.9765,val loss 97.8777\n",
      "epoch  54,train loss 120.7068,val loss 92.2581\n",
      "epoch  55,train loss 59.9994,val loss 96.0540\n",
      "epoch  56,train loss 123.4722,val loss 98.6170\n",
      "epoch  57,train loss 106.0353,val loss 98.4597\n",
      "epoch  58,train loss 109.2804,val loss 96.1925\n",
      "epoch  59,train loss 75.7150,val loss 96.0160\n",
      "epoch  60,train loss 106.2435,val loss 94.0841\n",
      "epoch  61,train loss 102.4525,val loss 95.1649\n",
      "epoch  62,train loss 91.4848,val loss 102.5694\n",
      "epoch  63,train loss 169.8016,val loss 101.3135\n",
      "epoch  64,train loss 88.2438,val loss 93.9834\n",
      "epoch  65,train loss 87.9877,val loss 101.7271\n",
      "epoch  66,train loss 45.8811,val loss 93.1988\n",
      "epoch  67,train loss 63.1040,val loss 91.2332\n",
      "epoch  68,train loss 129.1716,val loss 100.1951\n",
      "epoch  69,train loss 89.5014,val loss 93.7779\n",
      "epoch  70,train loss 92.2521,val loss 98.8953\n",
      "epoch  71,train loss 106.6769,val loss 93.1267\n",
      "epoch  72,train loss 74.2933,val loss 98.4788\n",
      "epoch  73,train loss 56.6144,val loss 94.1053\n",
      "epoch  74,train loss 64.7613,val loss 93.1829\n",
      "epoch  75,train loss 82.2744,val loss 94.9477\n",
      "epoch  76,train loss 54.1293,val loss 97.3109\n",
      "epoch  77,train loss 85.5192,val loss 98.0563\n",
      "epoch  78,train loss 105.7009,val loss 95.7805\n",
      "epoch  79,train loss 117.7674,val loss 99.2098\n",
      "epoch  80,train loss 90.2029,val loss 97.5954\n",
      "epoch  81,train loss 53.2162,val loss 93.3049\n",
      "epoch  82,train loss 138.2130,val loss 95.1780\n",
      "epoch  83,train loss 43.5073,val loss 91.1801\n",
      "epoch  84,train loss 91.5150,val loss 96.7557\n",
      "epoch  85,train loss 49.6672,val loss 95.9268\n",
      "epoch  86,train loss 50.2546,val loss 91.7436\n",
      "epoch  87,train loss 92.2902,val loss 98.1788\n",
      "epoch  88,train loss 54.7982,val loss 95.6088\n",
      "epoch  89,train loss 74.3712,val loss 98.7333\n",
      "epoch  90,train loss 136.9532,val loss 92.2311\n",
      "epoch  91,train loss 120.8977,val loss 91.9828\n",
      "epoch  92,train loss 84.3101,val loss 99.3728\n",
      "epoch  93,train loss 84.1949,val loss 94.4112\n",
      "epoch  94,train loss 62.7444,val loss 90.9966\n",
      "epoch  95,train loss 116.5705,val loss 97.8185\n",
      "epoch  96,train loss 63.3392,val loss 93.8541\n",
      "epoch  97,train loss 79.4809,val loss 88.2023\n",
      "epoch  98,train loss 144.6951,val loss 99.9492\n",
      "epoch  99,train loss 84.9253,val loss 93.8323\n",
      "epoch 100,train loss 80.6056,val loss 95.1251\n",
      "epoch 101,train loss 130.1909,val loss 95.5445\n",
      "epoch 102,train loss 152.6866,val loss 89.4518\n",
      "epoch 103,train loss 100.2916,val loss 95.5133\n",
      "epoch 104,train loss 120.0347,val loss 90.3272\n",
      "epoch 105,train loss 126.6048,val loss 94.9573\n",
      "epoch 106,train loss 87.1514,val loss 90.7228\n",
      "epoch 107,train loss 102.1898,val loss 89.7773\n",
      "epoch 108,train loss 84.2234,val loss 89.0461\n",
      "epoch 109,train loss 116.2742,val loss 91.4178\n",
      "epoch 110,train loss 104.1081,val loss 91.4281\n",
      "epoch 111,train loss 148.6262,val loss 94.1193\n",
      "epoch 112,train loss 78.5476,val loss 92.4638\n",
      "epoch 113,train loss 132.0415,val loss 93.4160\n",
      "epoch 114,train loss 108.3995,val loss 92.2680\n",
      "epoch 115,train loss 84.9423,val loss 89.9780\n",
      "epoch 116,train loss 87.4440,val loss 91.8440\n",
      "epoch 117,train loss 82.8422,val loss 94.5206\n",
      "epoch 118,train loss 84.6425,val loss 93.8859\n",
      "epoch 119,train loss 104.4697,val loss 95.2071\n",
      "epoch 120,train loss 69.5566,val loss 93.0939\n",
      "epoch 121,train loss 103.4814,val loss 92.1839\n",
      "epoch 122,train loss 110.4523,val loss 95.7895\n",
      "epoch 123,train loss 84.2138,val loss 92.2305\n",
      "epoch 124,train loss 70.6728,val loss 89.7269\n",
      "epoch 125,train loss 67.9279,val loss 95.2692\n",
      "epoch 126,train loss 76.8645,val loss 91.1150\n",
      "epoch 127,train loss 78.0657,val loss 91.5771\n",
      "epoch 128,train loss 72.0064,val loss 93.5816\n",
      "epoch 129,train loss 137.3777,val loss 91.3144\n",
      "epoch 130,train loss 94.4155,val loss 94.8522\n",
      "epoch 131,train loss 40.5927,val loss 91.3694\n",
      "epoch 132,train loss 108.2884,val loss 87.7801\n",
      "epoch 133,train loss 98.9737,val loss 94.7181\n",
      "epoch 134,train loss 121.8361,val loss 90.1341\n",
      "epoch 135,train loss 77.4304,val loss 94.6138\n",
      "epoch 136,train loss 96.8667,val loss 92.1402\n",
      "epoch 137,train loss 79.1431,val loss 93.4343\n",
      "epoch 138,train loss 91.8926,val loss 92.1380\n",
      "epoch 139,train loss 99.7749,val loss 90.8252\n",
      "epoch 140,train loss 73.9823,val loss 98.4646\n",
      "epoch 141,train loss 130.1316,val loss 87.5984\n",
      "epoch 142,train loss 100.1264,val loss 95.7003\n",
      "epoch 143,train loss 129.0874,val loss 96.1056\n",
      "epoch 144,train loss 109.0237,val loss 92.7170\n",
      "epoch 145,train loss 114.4176,val loss 90.7391\n",
      "epoch 146,train loss 97.2124,val loss 93.9943\n",
      "epoch 147,train loss 133.7822,val loss 96.5483\n",
      "epoch 148,train loss 91.2405,val loss 93.0322\n",
      "epoch 149,train loss 74.7684,val loss 89.2577\n",
      "epoch 150,train loss 67.1653,val loss 89.2363\n",
      "epoch 151,train loss 116.2882,val loss 90.4912\n",
      "epoch 152,train loss 65.7192,val loss 90.1362\n",
      "epoch 153,train loss 42.4157,val loss 89.4056\n",
      "epoch 154,train loss 147.1911,val loss 98.3658\n",
      "epoch 155,train loss 73.9888,val loss 91.6866\n",
      "epoch 156,train loss 131.6576,val loss 91.7382\n",
      "epoch 157,train loss 139.2916,val loss 89.4901\n",
      "epoch 158,train loss 78.9690,val loss 88.9352\n",
      "epoch 159,train loss 55.0421,val loss 97.4221\n",
      "epoch 160,train loss 91.5377,val loss 88.7851\n",
      "epoch 161,train loss 66.3534,val loss 95.6394\n",
      "epoch 162,train loss 103.3949,val loss 94.9854\n",
      "epoch 163,train loss 79.4973,val loss 94.1020\n",
      "epoch 164,train loss 89.4395,val loss 97.2411\n",
      "epoch 165,train loss 92.3796,val loss 92.9765\n",
      "epoch 166,train loss 94.5746,val loss 97.6453\n",
      "epoch 167,train loss 95.6859,val loss 89.5378\n",
      "epoch 168,train loss 41.4662,val loss 98.8879\n",
      "epoch 169,train loss 139.1830,val loss 93.8189\n",
      "epoch 170,train loss 55.6736,val loss 91.6368\n",
      "epoch 171,train loss 82.9021,val loss 89.0739\n",
      "epoch 172,train loss 74.7192,val loss 93.6577\n",
      "epoch 173,train loss 70.5043,val loss 92.3288\n",
      "epoch 174,train loss 107.1009,val loss 95.2838\n",
      "epoch 175,train loss 103.6208,val loss 88.9489\n",
      "epoch 176,train loss 52.5908,val loss 90.7519\n",
      "epoch 177,train loss 136.3403,val loss 93.8489\n",
      "epoch 178,train loss 63.0657,val loss 87.7626\n",
      "epoch 179,train loss 100.3852,val loss 92.7741\n",
      "epoch 180,train loss 65.8369,val loss 89.4465\n",
      "epoch 181,train loss 141.2799,val loss 99.2833\n",
      "epoch 182,train loss 135.0414,val loss 95.8657\n",
      "epoch 183,train loss 148.2309,val loss 90.5346\n",
      "epoch 184,train loss 133.9747,val loss 89.6759\n",
      "epoch 185,train loss 71.8018,val loss 95.4204\n",
      "epoch 186,train loss 48.1088,val loss 90.4340\n",
      "epoch 187,train loss 86.2889,val loss 91.5636\n",
      "epoch 188,train loss 85.6432,val loss 92.5536\n",
      "epoch 189,train loss 91.8640,val loss 88.1976\n",
      "epoch 190,train loss 103.1603,val loss 90.6451\n",
      "epoch 191,train loss 103.6097,val loss 90.1117\n",
      "epoch 192,train loss 116.9211,val loss 91.3104\n",
      "epoch 193,train loss 97.7075,val loss 95.6711\n",
      "epoch 194,train loss 118.2288,val loss 93.2400\n",
      "epoch 195,train loss 128.8185,val loss 90.1873\n"
     ]
    },
    {
     "name": "stdout",
     "output_type": "stream",
     "text": [
      "epoch 196,train loss 80.8777,val loss 95.1638\n",
      "epoch 197,train loss 70.7887,val loss 98.3388\n",
      "epoch 198,train loss 92.7997,val loss 93.9032\n",
      "epoch 199,train loss 79.5176,val loss 91.4548\n"
     ]
    }
   ],
   "source": [
    "with tf.Graph().as_default() as g:\n",
    "    inputs = tf.placeholder(shape=[None,13],dtype=tf.float32)\n",
    "    labels = tf.placeholder(shape=[None],dtype=tf.float32)\n",
    "    \n",
    "    h1 = tf.keras.layers.Dense(64,activation=tf.nn.relu)(inputs)\n",
    "    h2 = tf.keras.layers.Dense(16,activation=tf.nn.relu)(h1)\n",
    "    output = tf.keras.layers.Dense(1,activation=None)(h2)\n",
    "    \n",
    "    loss = tf.reduce_mean(tf.keras.losses.mean_squared_error(labels,output))\n",
    "    \n",
    "    optim = tf.train.GradientDescentOptimizer(learning_rate=1e-6)\n",
    "    train_op = optim.minimize(loss)\n",
    "    \n",
    "with tf.Session(graph=g) as sess:\n",
    "    sess.run(tf.global_variables_initializer())\n",
    "    batch_size = 32\n",
    "    for epoch in range(200):\n",
    "        order = np.argsort(np.random.random(train_label.shape))\n",
    "        train_data = train_data[order]\n",
    "        train_label = train_label[order]\n",
    "        \n",
    "        res_train_losses = []\n",
    "        for i in range(train_label.shape[0] // batch_size):\n",
    "            start = i * batch_size\n",
    "            end = (i + 1) * batch_size\n",
    "            res_train_loss,_ = sess.run([loss,train_op],feed_dict={inputs:train_data[start:end],labels:train_label[start:end]})\n",
    "            \n",
    "            res_train_losses.append(res_train_loss)\n",
    "        res_val_loss = sess.run(loss,feed_dict={inputs:test_data,labels:test_label})\n",
    "        print('epoch %3d,train loss %2.4f,val loss %2.4f' %(epoch,res_train_loss,np.mean(res_train_losses)))\n",
    "        "
   ]
  },
  {
   "cell_type": "markdown",
   "metadata": {},
   "source": [
    "2、为上述模型训练添加代价变化的TensorBoard摘要\n",
    "3、导入Fashion_MNIST数据集并可视化\n",
    "4、构建全连接神经网络并使用导入的数据训练分类器\n",
    "5、尝试改进神经网络的结构与训练方法提高模型性能\n",
    "\n",
    "提示：可用tf.kreas.datasets.fashion_mnist.load_data()导入数据"
   ]
  }
 ],
 "metadata": {
  "kernelspec": {
   "display_name": "Python 3",
   "language": "python",
   "name": "python3"
  },
  "language_info": {
   "codemirror_mode": {
    "name": "ipython",
    "version": 3
   },
   "file_extension": ".py",
   "mimetype": "text/x-python",
   "name": "python",
   "nbconvert_exporter": "python",
   "pygments_lexer": "ipython3",
   "version": "3.6.5"
  }
 },
 "nbformat": 4,
 "nbformat_minor": 2
}
