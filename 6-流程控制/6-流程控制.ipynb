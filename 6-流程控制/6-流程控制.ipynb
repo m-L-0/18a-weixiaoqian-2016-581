{
 "cells": [
  {
   "cell_type": "markdown",
   "metadata": {
    "slideshow": {
     "slide_type": "notes"
    }
   },
   "source": [
    "6-2张量拷贝\n",
    "\n",
    "\n",
    "tf.identity是用于创建张量副本的虚节点，即生成一个与输入张量相同shape与内容（元素）的新张量\n",
    "当tf.identity输入与输出的张量在同一个设备上时（例如都在一个CPU上），实际仅仅占用了一个张量内容的内存，这也是称其为虚节点的原因。但如果tf.identity输入与输出的张量并不在同一个设备上时，就会拷贝一份内容到新设备中"
   ]
  },
  {
   "cell_type": "markdown",
   "metadata": {},
   "source": [
    "outputText = widgets.Text()\n",
    "outputText\n",
    "#运行会输出一个文本框"
   ]
  },
  {
   "cell_type": "code",
   "execution_count": null,
   "metadata": {},
   "outputs": [],
   "source": [
    "import tensorflow as tf"
   ]
  },
  {
   "cell_type": "code",
   "execution_count": null,
   "metadata": {},
   "outputs": [],
   "source": [
    "x = tf.Variable(0.)\n",
    "#tf.Variable(initializer,name),参数initializer是初始化参数\n",
    "#name是可定义的变量名称\n",
    "x_plus_1 = tf.assign_add(x,1)\n",
    "#tf.assign_add(ref,value,use_locking=None,name=None)\n",
    "#通过增加value来更新ref的值"
   ]
  },
  {
   "cell_type": "code",
   "execution_count": null,
   "metadata": {},
   "outputs": [],
   "source": [
    "#下面程序要做的是，5次循环，每次循环给x加1，赋值给y，然后打印出来,\n",
    "\n",
    "x = tf.Variable(0.0)\n",
    "#返回一个op，表示给变量x加1的操作\n",
    "x_plus_1 = tf.assign_add(x, 1)\n",
    "  \n",
    "#control_dependencies的意义是，在执行with包含的内容（在这里就是 y = x）前\n",
    "#先执行control_dependencies中的内容（在这里就是 x_plus_1）\n",
    "with tf.control_dependencies([x_plus_1]):\n",
    "    y = x\n",
    "init = tf.initialize_all_variables()\n",
    "  \n",
    "with tf.Session() as session:\n",
    "    init.run()\n",
    "    for i in xrange(5):\n",
    "        print(y.eval())\n"
   ]
  },
  {
   "cell_type": "code",
   "execution_count": null,
   "metadata": {},
   "outputs": [],
   "source": [
    "#改成如下，\n",
    "\n",
    "import tensorflow as tf\n",
    "x = tf.Variable(0.0)\n",
    "print(x)\n",
    "x_plus_1 = tf.assign_add(x, 1)\n",
    "with tf.control_dependencies([x_plus_1]):\n",
    "    y = x + 0.0\n",
    "    print(y) #z=tf.identity(x,name='x')\n",
    "init = tf.global_variables_initializer()\n",
    "with tf.Session() as sess:\n",
    "    sess.run(init)\n",
    "    for i in range(5):\n",
    "        print(sess.run(y))"
   ]
  }
 ],
 "metadata": {
  "kernelspec": {
   "display_name": "Python 3",
   "language": "python",
   "name": "python3"
  },
  "language_info": {
   "codemirror_mode": {
    "name": "ipython",
    "version": 3
   },
   "file_extension": ".py",
   "mimetype": "text/x-python",
   "name": "python",
   "nbconvert_exporter": "python",
   "pygments_lexer": "ipython3",
   "version": "3.6.5"
  }
 },
 "nbformat": 4,
 "nbformat_minor": 2
}
