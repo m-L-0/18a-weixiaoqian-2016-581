{
 "cells": [
  {
   "cell_type": "markdown",
   "metadata": {},
   "source": [
    "1. 构建二元线性回归模型，其中模型中的参数使用tf.Variable()构建，模型的样本输入使用tf.placeholder代替。写出模型结构"
   ]
  },
  {
   "cell_type": "code",
   "execution_count": 1,
   "metadata": {},
   "outputs": [
    {
     "name": "stderr",
     "output_type": "stream",
     "text": [
      "D:\\AN\\lib\\site-packages\\h5py\\__init__.py:36: FutureWarning: Conversion of the second argument of issubdtype from `float` to `np.floating` is deprecated. In future, it will be treated as `np.float64 == np.dtype(float).type`.\n",
      "  from ._conv import register_converters as _register_converters\n"
     ]
    }
   ],
   "source": [
    "import tensorflow as tf\n",
    "import numpy as np\n",
    "\n",
    "def LinerRegression(train_x,train_y,epochs=1000):   # 确定训练集和迭代次数\n",
    "    x = tf.placeholder(tf.float32)   # 将x,y用占位符代替\n",
    "    y = tf.placeholder(tf.float32)\n",
    "    w = tf.Variable(np.random.randn(),dtype=tf.float32) # 随机指定权重参数\n",
    "    b = tf.Variable(np.random.randn(),dtype=tf.float32) # 随机指定偏差参数"
   ]
  },
  {
   "cell_type": "code",
   "execution_count": 2,
   "metadata": {},
   "outputs": [
    {
     "ename": "IndentationError",
     "evalue": "unexpected indent (<ipython-input-2-17934307837f>, line 2)",
     "output_type": "error",
     "traceback": [
      "\u001b[1;36m  File \u001b[1;32m\"<ipython-input-2-17934307837f>\"\u001b[1;36m, line \u001b[1;32m2\u001b[0m\n\u001b[1;33m    pred = tf.add(tf.mul(w,x),b)\u001b[0m\n\u001b[1;37m    ^\u001b[0m\n\u001b[1;31mIndentationError\u001b[0m\u001b[1;31m:\u001b[0m unexpected indent\n"
     ]
    }
   ],
   "source": [
    "# 定义模型\n",
    "    pred = tf.add(tf.mul(w,x),b)\n",
    "    \n",
    "    # 定义损失函数\n",
    "    x_count = train_x.shape[0] # 求得x的个数\n",
    "    cost = tf.reduce_sum(tf.pow(pred-y,2))\n",
    "    \n",
    "    # 优化器使用梯度下降法\n",
    "    x_count = train_x.shape[0] # 求得x的个数\n",
    "    optimizer = tf.train.GradientDescentOptimizer().minimize(cost)/x_count\n",
    "    \n",
    "    # 初始化所有变量\n",
    "    init = tf.initialize_all_variables()\n",
    "    \n",
    "    sess = tf.Session()\n",
    "    sess.run(init)\n",
    "    \n",
    "    # 对参数进行迭代\n",
    "    for index in range(epochs):\n",
    "        sess.run(optimizer,{x:train_x,y:train_y}) # session的run函数中，按照传入的操作向上查找，凡是操作中涉及的无论是变量、常量都要参与运算，占位符则要在run过程中以字典形式传入\n",
    "    w = sess.run(w)\n",
    "    b = sess.run(b)\n",
    "    \n",
    "    #输出参数\n",
    "    return w,b"
   ]
  },
  {
   "cell_type": "code",
   "execution_count": 3,
   "metadata": {},
   "outputs": [],
   "source": [
    "#2. 使用tf.placeholder代替上述样本中的标记，写出对于一个样本的代价\n",
    "import tensorflow as tf\n",
    "import numpy as np\n",
    "\n",
    "def LinerRegression(train_x,train_y,epochs=1000):   # 确定训练集和迭代次数\n",
    "    x = tf.placeholder(tf.float32)   # 将x,y用占位符代替\n",
    "    y = tf.placeholder(tf.float32)\n",
    "    w = tf.placeholder(dtype=tf.float32, shape=[]) # 随机指定权重参数\n",
    "    b = tf.placeholder(dtype=tf.float32, shape=[]) # 随机指定偏差参数\n",
    "    \n",
    "    # 定义模型\n",
    "    pred = tf.add(tf.mul(w,x),b)\n",
    "    \n",
    "    # 定义损失函数\n",
    "    x_count = train_x.shape[0] # 求得x的个数\n",
    "    cost = tf.reduce_sum(tf.pow(pred-y,2))\n",
    "    \n",
    "    # 优化器使用梯度下降法\n",
    "    optimizer = tf.train.GradientDescentOptimizer().minimize(cost)\n",
    "    \n",
    "    # 初始化所有变量\n",
    "    init = tf.initialize_all_variables()\n",
    "    \n",
    "    sess = tf.Session()\n",
    "    sess.run(init)\n",
    "    \n",
    "    # 对参数进行迭代\n",
    "    for index in range(epochs):\n",
    "        sess.run(optimizer,{x:train_x,y:train_y}) \n",
    "    w = sess.run(w)\n",
    "    b = sess.run(b)\n",
    "    \n",
    "    #输出参数\n",
    "    return w,b"
   ]
  },
  {
   "cell_type": "code",
   "execution_count": null,
   "metadata": {},
   "outputs": [],
   "source": []
  }
 ],
 "metadata": {
  "kernelspec": {
   "display_name": "Python 3",
   "language": "python",
   "name": "python3"
  },
  "language_info": {
   "codemirror_mode": {
    "name": "ipython",
    "version": 3
   },
   "file_extension": ".py",
   "mimetype": "text/x-python",
   "name": "python",
   "nbconvert_exporter": "python",
   "pygments_lexer": "ipython3",
   "version": "3.6.5"
  }
 },
 "nbformat": 4,
 "nbformat_minor": 2
}
